{
  "nbformat": 4,
  "nbformat_minor": 0,
  "metadata": {
    "colab": {
      "name": "bike.ipynb",
      "provenance": [],
      "collapsed_sections": [],
      "mount_file_id": "1Y2WvgNAGBZlY9mgoXPSu0cXazpR4UwY1",
      "authorship_tag": "ABX9TyPDl52bNAcAIV08zO5pEfZr",
      "include_colab_link": true
    },
    "kernelspec": {
      "name": "python3",
      "display_name": "Python 3"
    },
    "language_info": {
      "name": "python"
    }
  },
  "cells": [
    {
      "cell_type": "markdown",
      "metadata": {
        "id": "view-in-github",
        "colab_type": "text"
      },
      "source": [
        "<a href=\"https://colab.research.google.com/github/Frinhani/LearningMachineLearning/blob/main/bike.ipynb\" target=\"_parent\"><img src=\"https://colab.research.google.com/assets/colab-badge.svg\" alt=\"Open In Colab\"/></a>"
      ]
    },
    {
      "cell_type": "code",
      "metadata": {
        "id": "aSkdg5T_PL_J"
      },
      "source": [
        "import pandas as pd\n",
        "import matplotlib.pyplot as plt\n",
        "import numpy as np\n"
      ],
      "execution_count": 1,
      "outputs": []
    },
    {
      "cell_type": "code",
      "metadata": {
        "colab": {
          "base_uri": "https://localhost:8080/",
          "height": 204
        },
        "id": "Txn-LDYmQtjW",
        "outputId": "437f0ca8-ca1a-4d90-9ab5-ff800b447400"
      },
      "source": [
        "dados = pd.read_csv('/content/drive/MyDrive/Files/Bicicletas.csv')\n",
        "dados.head()"
      ],
      "execution_count": 2,
      "outputs": [
        {
          "output_type": "execute_result",
          "data": {
            "text/html": [
              "<div>\n",
              "<style scoped>\n",
              "    .dataframe tbody tr th:only-of-type {\n",
              "        vertical-align: middle;\n",
              "    }\n",
              "\n",
              "    .dataframe tbody tr th {\n",
              "        vertical-align: top;\n",
              "    }\n",
              "\n",
              "    .dataframe thead th {\n",
              "        text-align: right;\n",
              "    }\n",
              "</style>\n",
              "<table border=\"1\" class=\"dataframe\">\n",
              "  <thead>\n",
              "    <tr style=\"text-align: right;\">\n",
              "      <th></th>\n",
              "      <th>clima</th>\n",
              "      <th>temperatura</th>\n",
              "      <th>bicicletas_alugadas</th>\n",
              "    </tr>\n",
              "  </thead>\n",
              "  <tbody>\n",
              "    <tr>\n",
              "      <th>0</th>\n",
              "      <td>2</td>\n",
              "      <td>0.363625</td>\n",
              "      <td>985</td>\n",
              "    </tr>\n",
              "    <tr>\n",
              "      <th>1</th>\n",
              "      <td>2</td>\n",
              "      <td>0.353739</td>\n",
              "      <td>801</td>\n",
              "    </tr>\n",
              "    <tr>\n",
              "      <th>2</th>\n",
              "      <td>1</td>\n",
              "      <td>0.189405</td>\n",
              "      <td>1349</td>\n",
              "    </tr>\n",
              "    <tr>\n",
              "      <th>3</th>\n",
              "      <td>1</td>\n",
              "      <td>0.212122</td>\n",
              "      <td>1562</td>\n",
              "    </tr>\n",
              "    <tr>\n",
              "      <th>4</th>\n",
              "      <td>1</td>\n",
              "      <td>0.229270</td>\n",
              "      <td>1600</td>\n",
              "    </tr>\n",
              "  </tbody>\n",
              "</table>\n",
              "</div>"
            ],
            "text/plain": [
              "   clima  temperatura  bicicletas_alugadas\n",
              "0      2     0.363625                  985\n",
              "1      2     0.353739                  801\n",
              "2      1     0.189405                 1349\n",
              "3      1     0.212122                 1562\n",
              "4      1     0.229270                 1600"
            ]
          },
          "metadata": {},
          "execution_count": 2
        }
      ]
    },
    {
      "cell_type": "code",
      "metadata": {
        "colab": {
          "base_uri": "https://localhost:8080/"
        },
        "id": "KMUk8rbOR5Gq",
        "outputId": "60cc3b00-c77d-497a-e081-fa32b229130d"
      },
      "source": [
        "dados.shape"
      ],
      "execution_count": 3,
      "outputs": [
        {
          "output_type": "execute_result",
          "data": {
            "text/plain": [
              "(731, 3)"
            ]
          },
          "metadata": {},
          "execution_count": 3
        }
      ]
    },
    {
      "cell_type": "code",
      "metadata": {
        "colab": {
          "base_uri": "https://localhost:8080/",
          "height": 296
        },
        "id": "00EnSRH2SAKT",
        "outputId": "d439d3f5-8deb-4d28-8482-f76fd557b8ee"
      },
      "source": [
        "plt.scatter(dados['temperatura'], dados['bicicletas_alugadas'])\n",
        "plt.xlabel('temperatura')\n",
        "plt.ylabel('bikes_alugadas')"
      ],
      "execution_count": 4,
      "outputs": [
        {
          "output_type": "execute_result",
          "data": {
            "text/plain": [
              "Text(0, 0.5, 'bikes_alugadas')"
            ]
          },
          "metadata": {},
          "execution_count": 4
        },
        {
          "output_type": "display_data",
          "data": {
            "image/png": "[encoded data removed]",
            "text/plain": [
              "<Figure size 432x288 with 1 Axes>"
            ]
          },
          "metadata": {
            "needs_background": "light"
          }
        }
      ]
    },
    {
      "cell_type": "code",
      "metadata": {
        "colab": {
          "base_uri": "https://localhost:8080/",
          "height": 351
        },
        "id": "LSayLPC8STle",
        "outputId": "e963c0bf-63d1-484e-bee1-c3e91199a2c1"
      },
      "source": [
        "plt.scatter(dados.clima, dados.bicicletas_alugadas)\n",
        "plt.ylabel('bikes_alugadas')\n",
        "plt.xlabel('clima')\n",
        "indice=[1,2,3]\n",
        "plt.xticks(indice, fontsize=14)"
      ],
      "execution_count": 5,
      "outputs": [
        {
          "output_type": "execute_result",
          "data": {
            "text/plain": [
              "([<matplotlib.axis.XTick at 0x7f97a6997890>,\n",
              "  <matplotlib.axis.XTick at 0x7f97a6997850>,\n",
              "  <matplotlib.axis.XTick at 0x7f97a6995410>],\n",
              " <a list of 3 Text major ticklabel objects>)"
            ]
          },
          "metadata": {},
          "execution_count": 5
        },
        {
          "output_type": "display_data",
          "data": {
            "image/png": "[encoded data removed]",
            "text/plain": [
              "<Figure size 432x288 with 1 Axes>"
            ]
          },
          "metadata": {
            "needs_background": "light"
          }
        }
      ]
    },
    {
      "cell_type": "code",
      "metadata": {
        "id": "z6Yhv3yZTU5W"
      },
      "source": [
        "y = dados.bicicletas_alugadas.values"
      ],
      "execution_count": 6,
      "outputs": []
    },
    {
      "cell_type": "code",
      "metadata": {
        "id": "eT2SaM2YTjRY"
      },
      "source": [
        "X = dados[['clima', 'temperatura']].values"
      ],
      "execution_count": 7,
      "outputs": []
    },
    {
      "cell_type": "code",
      "metadata": {
        "id": "d5bFoBrfT4T5"
      },
      "source": [
        "X = X/np.amax(X,axis=0)"
      ],
      "execution_count": 8,
      "outputs": []
    },
    {
      "cell_type": "code",
      "metadata": {
        "colab": {
          "base_uri": "https://localhost:8080/"
        },
        "id": "UMxVwM53UNwW",
        "outputId": "c83fafb3-2c77-4da6-e5ab-3db60809e67c"
      },
      "source": [
        "print(X)"
      ],
      "execution_count": 9,
      "outputs": [
        {
          "output_type": "stream",
          "text": [
            "[[0.66666667 0.43242565]\n",
            " [0.66666667 0.42066914]\n",
            " [0.33333333 0.22524188]\n",
            " ...\n",
            " [0.66666667 0.28826395]\n",
            " [0.33333333 0.27553942]\n",
            " [0.66666667 0.26577246]]\n"
          ],
          "name": "stdout"
        }
      ]
    },
    {
      "cell_type": "code",
      "metadata": {
        "id": "NO2ZJphXUPTh"
      },
      "source": [
        "ymax = np.amax(y)\n",
        "y = y/ymax"
      ],
      "execution_count": 10,
      "outputs": []
    },
    {
      "cell_type": "code",
      "metadata": {
        "id": "VH5ZdOIFUgGZ"
      },
      "source": [
        "def sigmoid(Soma):\n",
        "  return 1/(1+np.exp(-Soma))"
      ],
      "execution_count": 11,
      "outputs": []
    },
    {
      "cell_type": "code",
      "metadata": {
        "id": "fMRErRM9WLqM"
      },
      "source": [
        "def relu(Soma):\n",
        "  return np.maximum(0, Soma)"
      ],
      "execution_count": 12,
      "outputs": []
    },
    {
      "cell_type": "code",
      "metadata": {
        "id": "Igmt3NqEWV4Z"
      },
      "source": [
        "arquitetura = [{\n",
        "    'dim_entrada':2,\n",
        "    'dim_saida':128,\n",
        "    'ativacao': 'relu'},\n",
        "    {\n",
        "    'dim_entrada':128,\n",
        "    'dim_saida':1,\n",
        "    'ativacao':'sigmoid'\n",
        "    }]"
      ],
      "execution_count": 55,
      "outputs": []
    },
    {
      "cell_type": "code",
      "metadata": {
        "id": "9vtYwQGAdzzS"
      },
      "source": [
        "def inicia_camadas(arquitetura, seed = 99):\n",
        "\n",
        "  np.random.seed(seed)\n",
        "  numero_de_camadas = len(arquitetura)\n",
        "  valores_parametros = {}\n",
        "\n",
        "  for indice, camada in enumerate(arquitetura):\n",
        "\n",
        "    indice_camada = indice + 1\n",
        "\n",
        "    tamanho_camada_entrada = camada['dim_entrada']\n",
        "    tamanho_camada_saida = camada['dim_saida']\n",
        "\n",
        "    valores_parametros['P' + str(indice_camada)] = np.random.randn(tamanho_camada_saida, tamanho_camada_entrada) # * 0.1\n",
        "    valores_parametros['b' + str(indice_camada)] = np.random.randn(tamanho_camada_saida, 1) * 0.1\n",
        "\n",
        "  return valores_parametros"
      ],
      "execution_count": 14,
      "outputs": []
    },
    {
      "cell_type": "code",
      "metadata": {
        "id": "MbGmSl-Ef3zq"
      },
      "source": [
        "def propaga_uma_camada(Ativado_anterior, Pesos_atual,  b_atual, ativacao = 'relu'):\n",
        "  Saida_atual =  np.dot(Pesos_atual, Ativado_anterior) + b_atual\n",
        "\n",
        "  if ativacao is 'relu':\n",
        "    func_ativacao = relu\n",
        "  elif ativacao is 'sigmoid':\n",
        "    func_ativacao = sigmoid\n",
        "\n",
        "  return func_ativacao(Saida_atual), Saida_atual"
      ],
      "execution_count": 15,
      "outputs": []
    },
    {
      "cell_type": "code",
      "metadata": {
        "id": "0S9jeRvAkBHo"
      },
      "source": [
        "def propaga_total(X, valores_parametros, arquitetura):\n",
        "  memoria = {}\n",
        "  Ativado_atual = X\n",
        "\n",
        "  for indice, camada in enumerate(arquitetura):\n",
        "\n",
        "    indice_camada = indice + 1\n",
        "    Ativado_anterior = Ativado_atual\n",
        "\n",
        "    func_ativacao_atual = camada['ativacao']\n",
        "    Pesos_atual = valores_parametros['P' + str(indice_camada)]\n",
        "    b_atual = valores_parametros['b' + str(indice_camada)]\n",
        "\n",
        "    Ativado_atual, Saida_atual = propaga_uma_camada(Ativado_anterior, Pesos_atual,\n",
        "                       b_atual, func_ativacao_atual)\n",
        "    \n",
        "    memoria['A' + str(indice)] = Ativado_anterior\n",
        "    memoria['Z' + str(indice_camada)] = Saida_atual\n",
        "\n",
        "  return Ativado_atual, memoria"
      ],
      "execution_count": 16,
      "outputs": []
    },
    {
      "cell_type": "code",
      "metadata": {
        "id": "6tx5vAz4sNvq"
      },
      "source": [
        "valores_parametros = inicia_camadas(arquitetura,seed=99)"
      ],
      "execution_count": 17,
      "outputs": []
    },
    {
      "cell_type": "code",
      "metadata": {
        "id": "rFpwFsyrsX5m"
      },
      "source": [
        "y_estimado, memoria = propaga_total(np.transpose(X), valores_parametros, arquitetura)"
      ],
      "execution_count": 18,
      "outputs": []
    },
    {
      "cell_type": "code",
      "metadata": {
        "colab": {
          "base_uri": "https://localhost:8080/"
        },
        "id": "JiQt6w21sxUz",
        "outputId": "b7e602e7-34ab-4d68-c01a-b5128c777508"
      },
      "source": [
        "y_estimado[0,0]"
      ],
      "execution_count": 19,
      "outputs": [
        {
          "output_type": "execute_result",
          "data": {
            "text/plain": [
              "0.000528786918976693"
            ]
          },
          "metadata": {},
          "execution_count": 19
        }
      ]
    },
    {
      "cell_type": "code",
      "metadata": {
        "colab": {
          "base_uri": "https://localhost:8080/"
        },
        "id": "yhyQU_27s6fZ",
        "outputId": "e7a77e26-6e09-49b2-c621-694dd250562b"
      },
      "source": [
        "y_estimado[0,0]*ymax"
      ],
      "execution_count": 20,
      "outputs": [
        {
          "output_type": "execute_result",
          "data": {
            "text/plain": [
              "4.607849211962902"
            ]
          },
          "metadata": {},
          "execution_count": 20
        }
      ]
    },
    {
      "cell_type": "code",
      "metadata": {
        "colab": {
          "base_uri": "https://localhost:8080/"
        },
        "id": "PxmlVWR9s_wQ",
        "outputId": "342f5987-811a-4fec-adba-7d14ac2c9df4"
      },
      "source": [
        "y[0]*ymax"
      ],
      "execution_count": 21,
      "outputs": [
        {
          "output_type": "execute_result",
          "data": {
            "text/plain": [
              "985.0000000000001"
            ]
          },
          "metadata": {},
          "execution_count": 21
        }
      ]
    },
    {
      "cell_type": "code",
      "metadata": {
        "id": "epWqDzB4tCXU"
      },
      "source": [
        "def valor_de_custo(Y_predito, Y):\n",
        "  m = Y_predito.shape[1]\n",
        "  custo = -1/m *(np.dot(Y, np.log(Y_predito).T) + np.dot(1 - Y, np.log( 1 - Y_predito ).T))\n",
        "  return np.squeeze(custo)"
      ],
      "execution_count": 22,
      "outputs": []
    },
    {
      "cell_type": "code",
      "metadata": {
        "id": "LmmH-ibDuLBQ"
      },
      "source": [
        "def atualiza(valores_parametros, gradidentes, arquitetura, taxa_aprendizagem):\n",
        "\n",
        "    for indice_camada, camada in enumerate(arquitetura, 1):\n",
        "        valores_parametros[\"P\" + str(indice_camada)] -= taxa_aprendizagem * gradidentes[\"dP\" + str(indice_camada)]        \n",
        "        valores_parametros[\"b\" + str(indice_camada)] -= taxa_aprendizagem * gradidentes[\"db\" + str(indice_camada)]\n",
        "\n",
        "    return valores_parametros"
      ],
      "execution_count": 23,
      "outputs": []
    },
    {
      "cell_type": "code",
      "metadata": {
        "id": "idDfhzF3wqpC"
      },
      "source": [
        "def retropropagacao_total(Y_predito, Y, memoria, valores_parametros, arquitetura):\n",
        "  gradientes = {}\n",
        "  \n",
        "  Y = Y.reshape(Y_predito.shape)\n",
        "  dAtivado_anterior = -(np.divide(Y, Y_predito) - np.divide(1-Y,1-Y_predito))\n",
        "\n",
        "  for indice_camada_anterior, camada in reversed(list(enumerate(arquitetura))):\n",
        "    indice_camada_atual = indice_camada_anterior + 1\n",
        "    funcao_ativacao_atual = camada['ativacao']\n",
        "\n",
        "    dAtivado_atual = dAtivado_anterior\n",
        "\n",
        "    Ativado_anterior = memoria['A' + str(indice_camada_anterior)]\n",
        "    Saida_atual = memoria['Z' + str(indice_camada_atual)]\n",
        "    Pesos_atual = valores_parametros['P' + str(indice_camada_atual)]\n",
        "    b_atual = valores_parametros['b' + str(indice_camada_atual)]\n",
        "\n",
        "    dAtivado_anterior, dPesos_atual, db_atual = retropropagacao_uma_camada(\n",
        "        dAtivado_atual, Pesos_atual, b_atual, Saida_atual, Ativado_anterior, funcao_ativacao_atual)\n",
        "    gradientes['dP' + str(indice_camada_atual)] = dPesos_atual\n",
        "    gradientes['db' + str(indice_camada_atual)] = db_atual\n",
        "\n",
        "  return gradientes"
      ],
      "execution_count": 24,
      "outputs": []
    },
    {
      "cell_type": "code",
      "metadata": {
        "id": "hYChA6EG67zh"
      },
      "source": [
        "def sigmoid_retro(dAtivado, Saida):\n",
        "  sig = sigmoid(Saida)\n",
        "  return dAtivado * sig * (1-sig)"
      ],
      "execution_count": 25,
      "outputs": []
    },
    {
      "cell_type": "code",
      "metadata": {
        "id": "6LQa-Dw286AM"
      },
      "source": [
        "def relu_retro(dAtivado, Saida):\n",
        "  dSaida = np.array(dAtivado, copy=True)\n",
        "  dSaida[Saida <= 0] = 0\n",
        "  return dSaida"
      ],
      "execution_count": 26,
      "outputs": []
    },
    {
      "cell_type": "code",
      "metadata": {
        "id": "TZEgVJLj9TkE"
      },
      "source": [
        "def retropropagacao_uma_camada(dAtivado_atual, Pesos_atual, b_atual, Saida_atual,\n",
        "                               Ativado_anterior, ativacao='relu'):\n",
        "  m = Ativado_anterior.shape[1]\n",
        "\n",
        "  if ativacao is 'relu':\n",
        "    func_ativacao_retro = relu_retro\n",
        "  elif ativacao is 'sigmoid':\n",
        "    func_ativacao_retro = sigmoid_retro\n",
        "  else:\n",
        "    raise Exception('Ainda não implementado')\n",
        "\n",
        "  dSaida_atual = func_ativacao_retro(dAtivado_atual, Saida_atual)\n",
        "  dPesos_atual = np.dot(dSaida_atual, Ativado_anterior.T) / m\n",
        "  db_atual = np.sum(dSaida_atual, axis=1, keepdims=True) / m\n",
        "  dAtivado_anterior = np.dot(Pesos_atual.T, dSaida_atual)\n",
        "  return dAtivado_anterior, dPesos_atual, db_atual\n",
        "\n"
      ],
      "execution_count": 27,
      "outputs": []
    },
    {
      "cell_type": "code",
      "metadata": {
        "id": "Gr-rcYkhCOgS"
      },
      "source": [
        "def treino(X,Y,X_teste,Y_teste, arquitetura, epocas, taxa_aprendizagem):\n",
        "\n",
        "  valores_parametros = inicia_camadas(arquitetura, 2)\n",
        "\n",
        "  historia_custo = []\n",
        "  historia_custo_teste = []\n",
        "\n",
        "  for i in range(epocas):\n",
        "    Y_predito, memoria = propaga_total(X, valores_parametros, arquitetura)\n",
        "    Y_predito_teste, memoria2 = propaga_total(X_teste, valores_parametros, arquitetura)\n",
        "\n",
        "    custo = valor_de_custo(Y_predito, Y)\n",
        "    historia_custo.append(custo)\n",
        "    custo_teste = valor_de_custo(Y_predito_teste, Y_teste)\n",
        "    historia_custo_teste.append(custo_teste)\n",
        "\n",
        "    gradientes = retropropagacao_total(Y_predito, Y, memoria, valores_parametros, arquitetura)\n",
        "\n",
        "    valores_parametros = atualiza(valores_parametros, gradientes, arquitetura, taxa_aprendizagem)\n",
        "\n",
        "        \n",
        "    if(i % 50 == 0):\n",
        "      print(\"Iteração: {:05} - custo: {:.5f} \".format(i, custo))\n",
        "\n",
        "  return valores_parametros, historia_custo, historia_custo_teste"
      ],
      "execution_count": 36,
      "outputs": []
    },
    {
      "cell_type": "code",
      "metadata": {
        "id": "3ZdhsLqkEL7g"
      },
      "source": [
        "from sklearn.model_selection import train_test_split"
      ],
      "execution_count": 29,
      "outputs": []
    },
    {
      "cell_type": "code",
      "metadata": {
        "id": "s5PkO2mTFaNt"
      },
      "source": [
        "X_treino, X_teste, y_treino, y_teste = train_test_split(X, y, test_size = 0.43, random_state=43)"
      ],
      "execution_count": 30,
      "outputs": []
    },
    {
      "cell_type": "code",
      "metadata": {
        "colab": {
          "base_uri": "https://localhost:8080/"
        },
        "id": "2iW3idByFwAG",
        "outputId": "036c951f-0dc2-442f-8a20-142f3e13da09"
      },
      "source": [
        "valores_parametros, historia_custo, historia_custo_teste = treino(\n",
        "    np.transpose(X_treino), np.transpose(y_treino.reshape((y_treino.shape[0], 1))), \n",
        "    np.transpose(X_teste), np.transpose(y_teste.reshape((y_teste.shape[0], 1))),\n",
        "    arquitetura,epocas = 20000, taxa_aprendizagem=0.01)"
      ],
      "execution_count": 56,
      "outputs": [
        {
          "output_type": "stream",
          "text": [
            "Iteração: 00000 - custo: 2.70205 \n",
            "Iteração: 00050 - custo: 0.71194 \n",
            "Iteração: 00100 - custo: 0.68662 \n",
            "Iteração: 00150 - custo: 0.67047 \n",
            "Iteração: 00200 - custo: 0.66027 \n",
            "Iteração: 00250 - custo: 0.65383 \n",
            "Iteração: 00300 - custo: 0.64938 \n",
            "Iteração: 00350 - custo: 0.64623 \n",
            "Iteração: 00400 - custo: 0.64397 \n",
            "Iteração: 00450 - custo: 0.64232 \n",
            "Iteração: 00500 - custo: 0.64111 \n",
            "Iteração: 00550 - custo: 0.64019 \n",
            "Iteração: 00600 - custo: 0.63947 \n",
            "Iteração: 00650 - custo: 0.63887 \n",
            "Iteração: 00700 - custo: 0.63838 \n",
            "Iteração: 00750 - custo: 0.63797 \n",
            "Iteração: 00800 - custo: 0.63763 \n",
            "Iteração: 00850 - custo: 0.63734 \n",
            "Iteração: 00900 - custo: 0.63708 \n",
            "Iteração: 00950 - custo: 0.63685 \n",
            "Iteração: 01000 - custo: 0.63666 \n",
            "Iteração: 01050 - custo: 0.63649 \n",
            "Iteração: 01100 - custo: 0.63635 \n",
            "Iteração: 01150 - custo: 0.63622 \n",
            "Iteração: 01200 - custo: 0.63610 \n",
            "Iteração: 01250 - custo: 0.63600 \n",
            "Iteração: 01300 - custo: 0.63589 \n",
            "Iteração: 01350 - custo: 0.63580 \n",
            "Iteração: 01400 - custo: 0.63571 \n",
            "Iteração: 01450 - custo: 0.63564 \n",
            "Iteração: 01500 - custo: 0.63556 \n",
            "Iteração: 01550 - custo: 0.63549 \n",
            "Iteração: 01600 - custo: 0.63541 \n",
            "Iteração: 01650 - custo: 0.63533 \n",
            "Iteração: 01700 - custo: 0.63525 \n",
            "Iteração: 01750 - custo: 0.63519 \n",
            "Iteração: 01800 - custo: 0.63512 \n",
            "Iteração: 01850 - custo: 0.63506 \n",
            "Iteração: 01900 - custo: 0.63499 \n",
            "Iteração: 01950 - custo: 0.63493 \n",
            "Iteração: 02000 - custo: 0.63488 \n",
            "Iteração: 02050 - custo: 0.63482 \n",
            "Iteração: 02100 - custo: 0.63477 \n",
            "Iteração: 02150 - custo: 0.63473 \n",
            "Iteração: 02200 - custo: 0.63468 \n",
            "Iteração: 02250 - custo: 0.63464 \n",
            "Iteração: 02300 - custo: 0.63460 \n",
            "Iteração: 02350 - custo: 0.63456 \n",
            "Iteração: 02400 - custo: 0.63453 \n",
            "Iteração: 02450 - custo: 0.63449 \n",
            "Iteração: 02500 - custo: 0.63446 \n",
            "Iteração: 02550 - custo: 0.63443 \n",
            "Iteração: 02600 - custo: 0.63439 \n",
            "Iteração: 02650 - custo: 0.63436 \n",
            "Iteração: 02700 - custo: 0.63433 \n",
            "Iteração: 02750 - custo: 0.63430 \n",
            "Iteração: 02800 - custo: 0.63428 \n",
            "Iteração: 02850 - custo: 0.63425 \n",
            "Iteração: 02900 - custo: 0.63422 \n",
            "Iteração: 02950 - custo: 0.63420 \n",
            "Iteração: 03000 - custo: 0.63417 \n",
            "Iteração: 03050 - custo: 0.63415 \n",
            "Iteração: 03100 - custo: 0.63413 \n",
            "Iteração: 03150 - custo: 0.63410 \n",
            "Iteração: 03200 - custo: 0.63408 \n",
            "Iteração: 03250 - custo: 0.63406 \n",
            "Iteração: 03300 - custo: 0.63403 \n",
            "Iteração: 03350 - custo: 0.63401 \n",
            "Iteração: 03400 - custo: 0.63399 \n",
            "Iteração: 03450 - custo: 0.63396 \n",
            "Iteração: 03500 - custo: 0.63394 \n",
            "Iteração: 03550 - custo: 0.63392 \n",
            "Iteração: 03600 - custo: 0.63389 \n",
            "Iteração: 03650 - custo: 0.63387 \n",
            "Iteração: 03700 - custo: 0.63384 \n",
            "Iteração: 03750 - custo: 0.63382 \n",
            "Iteração: 03800 - custo: 0.63380 \n",
            "Iteração: 03850 - custo: 0.63378 \n",
            "Iteração: 03900 - custo: 0.63376 \n",
            "Iteração: 03950 - custo: 0.63375 \n",
            "Iteração: 04000 - custo: 0.63373 \n",
            "Iteração: 04050 - custo: 0.63371 \n",
            "Iteração: 04100 - custo: 0.63368 \n",
            "Iteração: 04150 - custo: 0.63366 \n",
            "Iteração: 04200 - custo: 0.63365 \n",
            "Iteração: 04250 - custo: 0.63363 \n",
            "Iteração: 04300 - custo: 0.63361 \n",
            "Iteração: 04350 - custo: 0.63360 \n",
            "Iteração: 04400 - custo: 0.63358 \n",
            "Iteração: 04450 - custo: 0.63356 \n",
            "Iteração: 04500 - custo: 0.63355 \n",
            "Iteração: 04550 - custo: 0.63353 \n",
            "Iteração: 04600 - custo: 0.63351 \n",
            "Iteração: 04650 - custo: 0.63350 \n",
            "Iteração: 04700 - custo: 0.63348 \n",
            "Iteração: 04750 - custo: 0.63346 \n",
            "Iteração: 04800 - custo: 0.63345 \n",
            "Iteração: 04850 - custo: 0.63343 \n",
            "Iteração: 04900 - custo: 0.63342 \n",
            "Iteração: 04950 - custo: 0.63340 \n",
            "Iteração: 05000 - custo: 0.63338 \n",
            "Iteração: 05050 - custo: 0.63336 \n",
            "Iteração: 05100 - custo: 0.63335 \n",
            "Iteração: 05150 - custo: 0.63333 \n",
            "Iteração: 05200 - custo: 0.63332 \n",
            "Iteração: 05250 - custo: 0.63331 \n",
            "Iteração: 05300 - custo: 0.63329 \n",
            "Iteração: 05350 - custo: 0.63328 \n",
            "Iteração: 05400 - custo: 0.63327 \n",
            "Iteração: 05450 - custo: 0.63326 \n",
            "Iteração: 05500 - custo: 0.63324 \n",
            "Iteração: 05550 - custo: 0.63323 \n",
            "Iteração: 05600 - custo: 0.63321 \n",
            "Iteração: 05650 - custo: 0.63319 \n",
            "Iteração: 05700 - custo: 0.63318 \n",
            "Iteração: 05750 - custo: 0.63316 \n",
            "Iteração: 05800 - custo: 0.63314 \n",
            "Iteração: 05850 - custo: 0.63313 \n",
            "Iteração: 05900 - custo: 0.63311 \n",
            "Iteração: 05950 - custo: 0.63309 \n",
            "Iteração: 06000 - custo: 0.63308 \n",
            "Iteração: 06050 - custo: 0.63306 \n",
            "Iteração: 06100 - custo: 0.63304 \n",
            "Iteração: 06150 - custo: 0.63302 \n",
            "Iteração: 06200 - custo: 0.63301 \n",
            "Iteração: 06250 - custo: 0.63298 \n",
            "Iteração: 06300 - custo: 0.63296 \n",
            "Iteração: 06350 - custo: 0.63293 \n",
            "Iteração: 06400 - custo: 0.63291 \n",
            "Iteração: 06450 - custo: 0.63289 \n",
            "Iteração: 06500 - custo: 0.63286 \n",
            "Iteração: 06550 - custo: 0.63284 \n",
            "Iteração: 06600 - custo: 0.63282 \n",
            "Iteração: 06650 - custo: 0.63280 \n",
            "Iteração: 06700 - custo: 0.63278 \n",
            "Iteração: 06750 - custo: 0.63276 \n",
            "Iteração: 06800 - custo: 0.63274 \n",
            "Iteração: 06850 - custo: 0.63273 \n",
            "Iteração: 06900 - custo: 0.63272 \n",
            "Iteração: 06950 - custo: 0.63270 \n",
            "Iteração: 07000 - custo: 0.63269 \n",
            "Iteração: 07050 - custo: 0.63268 \n",
            "Iteração: 07100 - custo: 0.63267 \n",
            "Iteração: 07150 - custo: 0.63265 \n",
            "Iteração: 07200 - custo: 0.63264 \n",
            "Iteração: 07250 - custo: 0.63263 \n",
            "Iteração: 07300 - custo: 0.63262 \n",
            "Iteração: 07350 - custo: 0.63260 \n",
            "Iteração: 07400 - custo: 0.63259 \n",
            "Iteração: 07450 - custo: 0.63257 \n",
            "Iteração: 07500 - custo: 0.63255 \n",
            "Iteração: 07550 - custo: 0.63254 \n",
            "Iteração: 07600 - custo: 0.63252 \n",
            "Iteração: 07650 - custo: 0.63250 \n",
            "Iteração: 07700 - custo: 0.63249 \n",
            "Iteração: 07750 - custo: 0.63248 \n",
            "Iteração: 07800 - custo: 0.63246 \n",
            "Iteração: 07850 - custo: 0.63245 \n",
            "Iteração: 07900 - custo: 0.63244 \n",
            "Iteração: 07950 - custo: 0.63243 \n",
            "Iteração: 08000 - custo: 0.63242 \n",
            "Iteração: 08050 - custo: 0.63240 \n",
            "Iteração: 08100 - custo: 0.63239 \n",
            "Iteração: 08150 - custo: 0.63238 \n",
            "Iteração: 08200 - custo: 0.63236 \n",
            "Iteração: 08250 - custo: 0.63235 \n",
            "Iteração: 08300 - custo: 0.63234 \n",
            "Iteração: 08350 - custo: 0.63233 \n",
            "Iteração: 08400 - custo: 0.63232 \n",
            "Iteração: 08450 - custo: 0.63231 \n",
            "Iteração: 08500 - custo: 0.63231 \n",
            "Iteração: 08550 - custo: 0.63230 \n",
            "Iteração: 08600 - custo: 0.63229 \n",
            "Iteração: 08650 - custo: 0.63228 \n",
            "Iteração: 08700 - custo: 0.63227 \n",
            "Iteração: 08750 - custo: 0.63226 \n",
            "Iteração: 08800 - custo: 0.63225 \n",
            "Iteração: 08850 - custo: 0.63224 \n",
            "Iteração: 08900 - custo: 0.63223 \n",
            "Iteração: 08950 - custo: 0.63222 \n",
            "Iteração: 09000 - custo: 0.63221 \n",
            "Iteração: 09050 - custo: 0.63221 \n",
            "Iteração: 09100 - custo: 0.63220 \n",
            "Iteração: 09150 - custo: 0.63219 \n",
            "Iteração: 09200 - custo: 0.63219 \n",
            "Iteração: 09250 - custo: 0.63218 \n",
            "Iteração: 09300 - custo: 0.63217 \n",
            "Iteração: 09350 - custo: 0.63216 \n",
            "Iteração: 09400 - custo: 0.63216 \n",
            "Iteração: 09450 - custo: 0.63215 \n",
            "Iteração: 09500 - custo: 0.63214 \n",
            "Iteração: 09550 - custo: 0.63214 \n",
            "Iteração: 09600 - custo: 0.63213 \n",
            "Iteração: 09650 - custo: 0.63212 \n",
            "Iteração: 09700 - custo: 0.63212 \n",
            "Iteração: 09750 - custo: 0.63211 \n",
            "Iteração: 09800 - custo: 0.63210 \n",
            "Iteração: 09850 - custo: 0.63210 \n",
            "Iteração: 09900 - custo: 0.63209 \n",
            "Iteração: 09950 - custo: 0.63208 \n",
            "Iteração: 10000 - custo: 0.63208 \n",
            "Iteração: 10050 - custo: 0.63207 \n",
            "Iteração: 10100 - custo: 0.63206 \n",
            "Iteração: 10150 - custo: 0.63206 \n",
            "Iteração: 10200 - custo: 0.63205 \n",
            "Iteração: 10250 - custo: 0.63204 \n",
            "Iteração: 10300 - custo: 0.63204 \n",
            "Iteração: 10350 - custo: 0.63203 \n",
            "Iteração: 10400 - custo: 0.63202 \n",
            "Iteração: 10450 - custo: 0.63201 \n",
            "Iteração: 10500 - custo: 0.63201 \n",
            "Iteração: 10550 - custo: 0.63200 \n",
            "Iteração: 10600 - custo: 0.63199 \n",
            "Iteração: 10650 - custo: 0.63199 \n",
            "Iteração: 10700 - custo: 0.63198 \n",
            "Iteração: 10750 - custo: 0.63197 \n",
            "Iteração: 10800 - custo: 0.63197 \n",
            "Iteração: 10850 - custo: 0.63196 \n",
            "Iteração: 10900 - custo: 0.63196 \n",
            "Iteração: 10950 - custo: 0.63195 \n",
            "Iteração: 11000 - custo: 0.63194 \n",
            "Iteração: 11050 - custo: 0.63194 \n",
            "Iteração: 11100 - custo: 0.63193 \n",
            "Iteração: 11150 - custo: 0.63193 \n",
            "Iteração: 11200 - custo: 0.63192 \n",
            "Iteração: 11250 - custo: 0.63192 \n",
            "Iteração: 11300 - custo: 0.63191 \n",
            "Iteração: 11350 - custo: 0.63191 \n",
            "Iteração: 11400 - custo: 0.63190 \n",
            "Iteração: 11450 - custo: 0.63189 \n",
            "Iteração: 11500 - custo: 0.63189 \n",
            "Iteração: 11550 - custo: 0.63188 \n",
            "Iteração: 11600 - custo: 0.63188 \n",
            "Iteração: 11650 - custo: 0.63187 \n",
            "Iteração: 11700 - custo: 0.63187 \n",
            "Iteração: 11750 - custo: 0.63186 \n",
            "Iteração: 11800 - custo: 0.63186 \n",
            "Iteração: 11850 - custo: 0.63185 \n",
            "Iteração: 11900 - custo: 0.63185 \n",
            "Iteração: 11950 - custo: 0.63184 \n",
            "Iteração: 12000 - custo: 0.63184 \n",
            "Iteração: 12050 - custo: 0.63183 \n",
            "Iteração: 12100 - custo: 0.63183 \n",
            "Iteração: 12150 - custo: 0.63182 \n",
            "Iteração: 12200 - custo: 0.63182 \n",
            "Iteração: 12250 - custo: 0.63181 \n",
            "Iteração: 12300 - custo: 0.63181 \n",
            "Iteração: 12350 - custo: 0.63181 \n",
            "Iteração: 12400 - custo: 0.63180 \n",
            "Iteração: 12450 - custo: 0.63180 \n",
            "Iteração: 12500 - custo: 0.63179 \n",
            "Iteração: 12550 - custo: 0.63179 \n",
            "Iteração: 12600 - custo: 0.63178 \n",
            "Iteração: 12650 - custo: 0.63178 \n",
            "Iteração: 12700 - custo: 0.63178 \n",
            "Iteração: 12750 - custo: 0.63177 \n",
            "Iteração: 12800 - custo: 0.63177 \n",
            "Iteração: 12850 - custo: 0.63176 \n",
            "Iteração: 12900 - custo: 0.63176 \n",
            "Iteração: 12950 - custo: 0.63176 \n",
            "Iteração: 13000 - custo: 0.63175 \n",
            "Iteração: 13050 - custo: 0.63175 \n",
            "Iteração: 13100 - custo: 0.63174 \n",
            "Iteração: 13150 - custo: 0.63174 \n",
            "Iteração: 13200 - custo: 0.63174 \n",
            "Iteração: 13250 - custo: 0.63173 \n",
            "Iteração: 13300 - custo: 0.63173 \n",
            "Iteração: 13350 - custo: 0.63172 \n",
            "Iteração: 13400 - custo: 0.63172 \n",
            "Iteração: 13450 - custo: 0.63172 \n",
            "Iteração: 13500 - custo: 0.63171 \n",
            "Iteração: 13550 - custo: 0.63171 \n",
            "Iteração: 13600 - custo: 0.63170 \n",
            "Iteração: 13650 - custo: 0.63170 \n",
            "Iteração: 13700 - custo: 0.63170 \n",
            "Iteração: 13750 - custo: 0.63169 \n",
            "Iteração: 13800 - custo: 0.63169 \n",
            "Iteração: 13850 - custo: 0.63169 \n",
            "Iteração: 13900 - custo: 0.63168 \n",
            "Iteração: 13950 - custo: 0.63168 \n",
            "Iteração: 14000 - custo: 0.63167 \n",
            "Iteração: 14050 - custo: 0.63167 \n",
            "Iteração: 14100 - custo: 0.63167 \n",
            "Iteração: 14150 - custo: 0.63166 \n",
            "Iteração: 14200 - custo: 0.63166 \n",
            "Iteração: 14250 - custo: 0.63165 \n",
            "Iteração: 14300 - custo: 0.63165 \n",
            "Iteração: 14350 - custo: 0.63165 \n",
            "Iteração: 14400 - custo: 0.63164 \n",
            "Iteração: 14450 - custo: 0.63164 \n",
            "Iteração: 14500 - custo: 0.63164 \n",
            "Iteração: 14550 - custo: 0.63163 \n",
            "Iteração: 14600 - custo: 0.63163 \n",
            "Iteração: 14650 - custo: 0.63163 \n",
            "Iteração: 14700 - custo: 0.63162 \n",
            "Iteração: 14750 - custo: 0.63162 \n",
            "Iteração: 14800 - custo: 0.63162 \n",
            "Iteração: 14850 - custo: 0.63161 \n",
            "Iteração: 14900 - custo: 0.63161 \n",
            "Iteração: 14950 - custo: 0.63160 \n",
            "Iteração: 15000 - custo: 0.63160 \n",
            "Iteração: 15050 - custo: 0.63160 \n",
            "Iteração: 15100 - custo: 0.63159 \n",
            "Iteração: 15150 - custo: 0.63159 \n",
            "Iteração: 15200 - custo: 0.63159 \n",
            "Iteração: 15250 - custo: 0.63158 \n",
            "Iteração: 15300 - custo: 0.63158 \n",
            "Iteração: 15350 - custo: 0.63158 \n",
            "Iteração: 15400 - custo: 0.63157 \n",
            "Iteração: 15450 - custo: 0.63157 \n",
            "Iteração: 15500 - custo: 0.63157 \n",
            "Iteração: 15550 - custo: 0.63156 \n",
            "Iteração: 15600 - custo: 0.63156 \n",
            "Iteração: 15650 - custo: 0.63156 \n",
            "Iteração: 15700 - custo: 0.63155 \n",
            "Iteração: 15750 - custo: 0.63155 \n",
            "Iteração: 15800 - custo: 0.63155 \n",
            "Iteração: 15850 - custo: 0.63154 \n",
            "Iteração: 15900 - custo: 0.63154 \n",
            "Iteração: 15950 - custo: 0.63154 \n",
            "Iteração: 16000 - custo: 0.63154 \n",
            "Iteração: 16050 - custo: 0.63153 \n",
            "Iteração: 16100 - custo: 0.63153 \n",
            "Iteração: 16150 - custo: 0.63153 \n",
            "Iteração: 16200 - custo: 0.63152 \n",
            "Iteração: 16250 - custo: 0.63152 \n",
            "Iteração: 16300 - custo: 0.63152 \n",
            "Iteração: 16350 - custo: 0.63151 \n",
            "Iteração: 16400 - custo: 0.63151 \n",
            "Iteração: 16450 - custo: 0.63151 \n",
            "Iteração: 16500 - custo: 0.63151 \n",
            "Iteração: 16550 - custo: 0.63150 \n",
            "Iteração: 16600 - custo: 0.63150 \n",
            "Iteração: 16650 - custo: 0.63150 \n",
            "Iteração: 16700 - custo: 0.63149 \n",
            "Iteração: 16750 - custo: 0.63149 \n",
            "Iteração: 16800 - custo: 0.63149 \n",
            "Iteração: 16850 - custo: 0.63148 \n",
            "Iteração: 16900 - custo: 0.63148 \n",
            "Iteração: 16950 - custo: 0.63148 \n",
            "Iteração: 17000 - custo: 0.63148 \n",
            "Iteração: 17050 - custo: 0.63147 \n",
            "Iteração: 17100 - custo: 0.63147 \n",
            "Iteração: 17150 - custo: 0.63147 \n",
            "Iteração: 17200 - custo: 0.63146 \n",
            "Iteração: 17250 - custo: 0.63146 \n",
            "Iteração: 17300 - custo: 0.63146 \n",
            "Iteração: 17350 - custo: 0.63146 \n",
            "Iteração: 17400 - custo: 0.63145 \n",
            "Iteração: 17450 - custo: 0.63145 \n",
            "Iteração: 17500 - custo: 0.63145 \n",
            "Iteração: 17550 - custo: 0.63144 \n",
            "Iteração: 17600 - custo: 0.63144 \n",
            "Iteração: 17650 - custo: 0.63144 \n",
            "Iteração: 17700 - custo: 0.63144 \n",
            "Iteração: 17750 - custo: 0.63143 \n",
            "Iteração: 17800 - custo: 0.63143 \n",
            "Iteração: 17850 - custo: 0.63143 \n",
            "Iteração: 17900 - custo: 0.63143 \n",
            "Iteração: 17950 - custo: 0.63142 \n",
            "Iteração: 18000 - custo: 0.63142 \n",
            "Iteração: 18050 - custo: 0.63142 \n",
            "Iteração: 18100 - custo: 0.63141 \n",
            "Iteração: 18150 - custo: 0.63141 \n",
            "Iteração: 18200 - custo: 0.63141 \n",
            "Iteração: 18250 - custo: 0.63141 \n",
            "Iteração: 18300 - custo: 0.63140 \n",
            "Iteração: 18350 - custo: 0.63140 \n",
            "Iteração: 18400 - custo: 0.63140 \n",
            "Iteração: 18450 - custo: 0.63140 \n",
            "Iteração: 18500 - custo: 0.63139 \n",
            "Iteração: 18550 - custo: 0.63139 \n",
            "Iteração: 18600 - custo: 0.63139 \n",
            "Iteração: 18650 - custo: 0.63139 \n",
            "Iteração: 18700 - custo: 0.63138 \n",
            "Iteração: 18750 - custo: 0.63138 \n",
            "Iteração: 18800 - custo: 0.63138 \n",
            "Iteração: 18850 - custo: 0.63138 \n",
            "Iteração: 18900 - custo: 0.63137 \n",
            "Iteração: 18950 - custo: 0.63137 \n",
            "Iteração: 19000 - custo: 0.63137 \n",
            "Iteração: 19050 - custo: 0.63137 \n",
            "Iteração: 19100 - custo: 0.63136 \n",
            "Iteração: 19150 - custo: 0.63136 \n",
            "Iteração: 19200 - custo: 0.63136 \n",
            "Iteração: 19250 - custo: 0.63136 \n",
            "Iteração: 19300 - custo: 0.63135 \n",
            "Iteração: 19350 - custo: 0.63135 \n",
            "Iteração: 19400 - custo: 0.63135 \n",
            "Iteração: 19450 - custo: 0.63135 \n",
            "Iteração: 19500 - custo: 0.63134 \n",
            "Iteração: 19550 - custo: 0.63134 \n",
            "Iteração: 19600 - custo: 0.63134 \n",
            "Iteração: 19650 - custo: 0.63134 \n",
            "Iteração: 19700 - custo: 0.63134 \n",
            "Iteração: 19750 - custo: 0.63133 \n",
            "Iteração: 19800 - custo: 0.63133 \n",
            "Iteração: 19850 - custo: 0.63133 \n",
            "Iteração: 19900 - custo: 0.63133 \n",
            "Iteração: 19950 - custo: 0.63132 \n"
          ],
          "name": "stdout"
        }
      ]
    },
    {
      "cell_type": "code",
      "metadata": {
        "colab": {
          "base_uri": "https://localhost:8080/",
          "height": 320
        },
        "id": "VAdE7ZuQHAP7",
        "outputId": "5247ace4-2fea-4724-aa96-5423b4a909e3"
      },
      "source": [
        "plt.plot(historia_custo)\n",
        "plt.plot(historia_custo_teste, 'r')\n",
        "plt.legend(['treinamento', 'teste'])\n",
        "plt.ylabel(\"Custo\")\n",
        "plt.xlabel('Épocas')\n"
      ],
      "execution_count": 57,
      "outputs": [
        {
          "output_type": "execute_result",
          "data": {
            "text/plain": [
              "Text(0.5, 0, 'Épocas')"
            ]
          },
          "metadata": {},
          "execution_count": 57
        },
        {
          "output_type": "display_data",
          "data": {
            "image/png": "[encoded data removed]",
            "text/plain": [
              "<Figure size 432x288 with 1 Axes>"
            ]
          },
          "metadata": {
            "needs_background": "light"
          }
        }
      ]
    },
    {
      "cell_type": "code",
      "metadata": {
        "id": "i0qZmjGvMv-i"
      },
      "source": [
        "Y_pred, _ = propaga_total(np.transpose(X_teste), valores_parametros, arquitetura)"
      ],
      "execution_count": 58,
      "outputs": []
    },
    {
      "cell_type": "code",
      "metadata": {
        "colab": {
          "base_uri": "https://localhost:8080/",
          "height": 299
        },
        "id": "JFaGbIUHNVU-",
        "outputId": "8c0fb70d-3639-4ffd-e73f-0317e9f0d135"
      },
      "source": [
        "plt.plot(np.transpose(X_teste)[1], ymax*y_teste, '.')\n",
        "plt.plot(np.transpose(X_teste)[1], ymax*Y_pred.reshape([-1,1]), '.r')\n",
        "plt.legend(['Reais', 'Preditos'])\n",
        "plt.ylabel('bicicletas_alugadas')\n",
        "plt.xlabel('temperatura')\n",
        "plt.show()"
      ],
      "execution_count": 59,
      "outputs": [
        {
          "output_type": "display_data",
          "data": {
            "image/png": "[encoded data removed]",
            "text/plain": [
              "<Figure size 432x288 with 1 Axes>"
            ]
          },
          "metadata": {
            "needs_background": "light"
          }
        }
      ]
    },
    {
      "cell_type": "code",
      "metadata": {
        "colab": {
          "base_uri": "https://localhost:8080/",
          "height": 293
        },
        "id": "GHIqAIY4OLqO",
        "outputId": "21a084f6-9da7-4ecd-d67b-5a60e12b3cfd"
      },
      "source": [
        "plt.plot(3*np.transpose(X_teste)[0], ymax*y_teste, '.')\n",
        "plt.plot(3*np.transpose(X_teste)[0], ymax*Y_pred.reshape([-1,1]), '.r')\n",
        "plt.legend(['Reais', 'Preditos'])\n",
        "plt.ylabel('bicicletas_alugadas')\n",
        "plt.xlabel('clima')\n",
        "plt.rcParams.update({'font.size': 22})\n",
        "indice = [ 1,2,3]\n",
        "plt.xticks(indice, fontsize = 14)\n",
        "plt.show()"
      ],
      "execution_count": 60,
      "outputs": [
        {
          "output_type": "display_data",
          "data": {
            "image/png": "[encoded data removed]",
            "text/plain": [
              "<Figure size 432x288 with 1 Axes>"
            ]
          },
          "metadata": {
            "needs_background": "light"
          }
        }
      ]
    },
    {
      "cell_type": "code",
      "metadata": {
        "id": "_NtH65SZO-WQ"
      },
      "source": [
        ""
      ],
      "execution_count": null,
      "outputs": []
    }
  ]
}