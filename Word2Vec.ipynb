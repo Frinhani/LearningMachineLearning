{
  "nbformat": 4,
  "nbformat_minor": 0,
  "metadata": {
    "colab": {
      "name": "Word2Vec.ipynb",
      "provenance": [],
      "collapsed_sections": [],
      "mount_file_id": "122itUASampkfbTmMJoUhJx8JcTn-41H-",
      "authorship_tag": "ABX9TyPd/JYVDvtwnjy7ZBzFkm3o",
      "include_colab_link": true
    },
    "kernelspec": {
      "name": "python3",
      "display_name": "Python 3"
    },
    "language_info": {
      "name": "python"
    }
  },
  "cells": [
    {
      "cell_type": "markdown",
      "metadata": {
        "id": "view-in-github",
        "colab_type": "text"
      },
      "source": [
        "<a href=\"https://colab.research.google.com/github/Frinhani/LearningMachineLearning/blob/main/Word2Vec.ipynb\" target=\"_parent\"><img src=\"https://colab.research.google.com/assets/colab-badge.svg\" alt=\"Open In Colab\"/></a>"
      ]
    },
    {
      "cell_type": "code",
      "metadata": {
        "id": "s4Cl3UZmjDSA"
      },
      "source": [
        "import pandas as pd\n",
        "\n",
        "dados_treino = pd.read_csv('/content/drive/MyDrive/Files/treino.csv')\n",
        "dados_teste = pd.read_csv('/content/drive/MyDrive/Files/teste.csv')"
      ],
      "execution_count": 1,
      "outputs": []
    },
    {
      "cell_type": "code",
      "metadata": {
        "id": "wyOy6Qyxxu4r",
        "colab": {
          "base_uri": "https://localhost:8080/"
        },
        "outputId": "7c3ac18a-6042-4e81-d54b-6d3943997245"
      },
      "source": [
        "!python -m spacy download pt_core_news_sm"
      ],
      "execution_count": 2,
      "outputs": [
        {
          "output_type": "stream",
          "text": [
            "Collecting pt_core_news_sm==2.2.5\n",
            "  Downloading https://github.com/explosion/spacy-models/releases/download/pt_core_news_sm-2.2.5/pt_core_news_sm-2.2.5.tar.gz (21.2 MB)\n",
            "\u001b[K     |████████████████████████████████| 21.2 MB 124.0 MB/s \n",
            "\u001b[?25hRequirement already satisfied: spacy>=2.2.2 in /usr/local/lib/python3.7/dist-packages (from pt_core_news_sm==2.2.5) (2.2.4)\n",
            "Requirement already satisfied: cymem<2.1.0,>=2.0.2 in /usr/local/lib/python3.7/dist-packages (from spacy>=2.2.2->pt_core_news_sm==2.2.5) (2.0.5)\n",
            "Requirement already satisfied: preshed<3.1.0,>=3.0.2 in /usr/local/lib/python3.7/dist-packages (from spacy>=2.2.2->pt_core_news_sm==2.2.5) (3.0.5)\n",
            "Requirement already satisfied: wasabi<1.1.0,>=0.4.0 in /usr/local/lib/python3.7/dist-packages (from spacy>=2.2.2->pt_core_news_sm==2.2.5) (0.8.2)\n",
            "Requirement already satisfied: tqdm<5.0.0,>=4.38.0 in /usr/local/lib/python3.7/dist-packages (from spacy>=2.2.2->pt_core_news_sm==2.2.5) (4.62.0)\n",
            "Requirement already satisfied: plac<1.2.0,>=0.9.6 in /usr/local/lib/python3.7/dist-packages (from spacy>=2.2.2->pt_core_news_sm==2.2.5) (1.1.3)\n",
            "Requirement already satisfied: requests<3.0.0,>=2.13.0 in /usr/local/lib/python3.7/dist-packages (from spacy>=2.2.2->pt_core_news_sm==2.2.5) (2.23.0)\n",
            "Requirement already satisfied: numpy>=1.15.0 in /usr/local/lib/python3.7/dist-packages (from spacy>=2.2.2->pt_core_news_sm==2.2.5) (1.19.5)\n",
            "Requirement already satisfied: blis<0.5.0,>=0.4.0 in /usr/local/lib/python3.7/dist-packages (from spacy>=2.2.2->pt_core_news_sm==2.2.5) (0.4.1)\n",
            "Requirement already satisfied: catalogue<1.1.0,>=0.0.7 in /usr/local/lib/python3.7/dist-packages (from spacy>=2.2.2->pt_core_news_sm==2.2.5) (1.0.0)\n",
            "Requirement already satisfied: thinc==7.4.0 in /usr/local/lib/python3.7/dist-packages (from spacy>=2.2.2->pt_core_news_sm==2.2.5) (7.4.0)\n",
            "Requirement already satisfied: srsly<1.1.0,>=1.0.2 in /usr/local/lib/python3.7/dist-packages (from spacy>=2.2.2->pt_core_news_sm==2.2.5) (1.0.5)\n",
            "Requirement already satisfied: setuptools in /usr/local/lib/python3.7/dist-packages (from spacy>=2.2.2->pt_core_news_sm==2.2.5) (57.4.0)\n",
            "Requirement already satisfied: murmurhash<1.1.0,>=0.28.0 in /usr/local/lib/python3.7/dist-packages (from spacy>=2.2.2->pt_core_news_sm==2.2.5) (1.0.5)\n",
            "Requirement already satisfied: importlib-metadata>=0.20 in /usr/local/lib/python3.7/dist-packages (from catalogue<1.1.0,>=0.0.7->spacy>=2.2.2->pt_core_news_sm==2.2.5) (4.6.4)\n",
            "Requirement already satisfied: typing-extensions>=3.6.4 in /usr/local/lib/python3.7/dist-packages (from importlib-metadata>=0.20->catalogue<1.1.0,>=0.0.7->spacy>=2.2.2->pt_core_news_sm==2.2.5) (3.7.4.3)\n",
            "Requirement already satisfied: zipp>=0.5 in /usr/local/lib/python3.7/dist-packages (from importlib-metadata>=0.20->catalogue<1.1.0,>=0.0.7->spacy>=2.2.2->pt_core_news_sm==2.2.5) (3.5.0)\n",
            "Requirement already satisfied: chardet<4,>=3.0.2 in /usr/local/lib/python3.7/dist-packages (from requests<3.0.0,>=2.13.0->spacy>=2.2.2->pt_core_news_sm==2.2.5) (3.0.4)\n",
            "Requirement already satisfied: certifi>=2017.4.17 in /usr/local/lib/python3.7/dist-packages (from requests<3.0.0,>=2.13.0->spacy>=2.2.2->pt_core_news_sm==2.2.5) (2021.5.30)\n",
            "Requirement already satisfied: idna<3,>=2.5 in /usr/local/lib/python3.7/dist-packages (from requests<3.0.0,>=2.13.0->spacy>=2.2.2->pt_core_news_sm==2.2.5) (2.10)\n",
            "Requirement already satisfied: urllib3!=1.25.0,!=1.25.1,<1.26,>=1.21.1 in /usr/local/lib/python3.7/dist-packages (from requests<3.0.0,>=2.13.0->spacy>=2.2.2->pt_core_news_sm==2.2.5) (1.24.3)\n",
            "\u001b[38;5;2m✔ Download and installation successful\u001b[0m\n",
            "You can now load the model via spacy.load('pt_core_news_sm')\n"
          ],
          "name": "stdout"
        }
      ]
    },
    {
      "cell_type": "code",
      "metadata": {
        "id": "ef_wq7gnypOA"
      },
      "source": [
        "import spacy\n",
        "nlp = spacy.load(\"pt_core_news_sm\")"
      ],
      "execution_count": 3,
      "outputs": []
    },
    {
      "cell_type": "code",
      "metadata": {
        "colab": {
          "base_uri": "https://localhost:8080/",
          "height": 289
        },
        "id": "oDtM-id8xgh9",
        "outputId": "320bbbf1-4c5d-4166-f20a-6e4a6834b298"
      },
      "source": [
        "dados_treino.sample(5)"
      ],
      "execution_count": 4,
      "outputs": [
        {
          "output_type": "execute_result",
          "data": {
            "text/html": [
              "<div>\n",
              "<style scoped>\n",
              "    .dataframe tbody tr th:only-of-type {\n",
              "        vertical-align: middle;\n",
              "    }\n",
              "\n",
              "    .dataframe tbody tr th {\n",
              "        vertical-align: top;\n",
              "    }\n",
              "\n",
              "    .dataframe thead th {\n",
              "        text-align: right;\n",
              "    }\n",
              "</style>\n",
              "<table border=\"1\" class=\"dataframe\">\n",
              "  <thead>\n",
              "    <tr style=\"text-align: right;\">\n",
              "      <th></th>\n",
              "      <th>title</th>\n",
              "      <th>text</th>\n",
              "      <th>date</th>\n",
              "      <th>category</th>\n",
              "      <th>subcategory</th>\n",
              "      <th>link</th>\n",
              "    </tr>\n",
              "  </thead>\n",
              "  <tbody>\n",
              "    <tr>\n",
              "      <th>88148</th>\n",
              "      <td>Em discurso, Dilma diz que vírus da zika é uma...</td>\n",
              "      <td>Em apelo para que a sociedade brasileira se en...</td>\n",
              "      <td>2016-03-02</td>\n",
              "      <td>cotidiano</td>\n",
              "      <td>NaN</td>\n",
              "      <td>http://www1.folha.uol.com.br/cotidiano/2016/02...</td>\n",
              "    </tr>\n",
              "    <tr>\n",
              "      <th>27334</th>\n",
              "      <td>Aos 15 anos, Flávia Saraiva conquista mais um ...</td>\n",
              "      <td>Nesta segunda-feira (13), a carioca Flávia Sar...</td>\n",
              "      <td>2015-07-13</td>\n",
              "      <td>esporte</td>\n",
              "      <td>NaN</td>\n",
              "      <td>http://www1.folha.uol.com.br/esporte/2015/07/1...</td>\n",
              "    </tr>\n",
              "    <tr>\n",
              "      <th>55172</th>\n",
              "      <td>E-mails mostram que EUA discutiram o cancelame...</td>\n",
              "      <td>E-mails divulgados pelo Departamento de Estado...</td>\n",
              "      <td>2015-02-10</td>\n",
              "      <td>mundo</td>\n",
              "      <td>NaN</td>\n",
              "      <td>http://www1.folha.uol.com.br/mundo/2015/10/168...</td>\n",
              "    </tr>\n",
              "    <tr>\n",
              "      <th>84495</th>\n",
              "      <td>Quartas da Liga dos Campeões terão Bayern x Re...</td>\n",
              "      <td>As quartas de final da Liga dos Campeões da Eu...</td>\n",
              "      <td>2017-03-17</td>\n",
              "      <td>esporte</td>\n",
              "      <td>NaN</td>\n",
              "      <td>http://www1.folha.uol.com.br/esporte/2017/03/1...</td>\n",
              "    </tr>\n",
              "    <tr>\n",
              "      <th>59051</th>\n",
              "      <td>China deteve mil defensores dos direitos human...</td>\n",
              "      <td>As autoridades chinesas detiveram cerca de mil...</td>\n",
              "      <td>2015-03-16</td>\n",
              "      <td>mundo</td>\n",
              "      <td>NaN</td>\n",
              "      <td>http://www1.folha.uol.com.br/mundo/2015/03/160...</td>\n",
              "    </tr>\n",
              "  </tbody>\n",
              "</table>\n",
              "</div>"
            ],
            "text/plain": [
              "                                                   title  ...                                               link\n",
              "88148  Em discurso, Dilma diz que vírus da zika é uma...  ...  http://www1.folha.uol.com.br/cotidiano/2016/02...\n",
              "27334  Aos 15 anos, Flávia Saraiva conquista mais um ...  ...  http://www1.folha.uol.com.br/esporte/2015/07/1...\n",
              "55172  E-mails mostram que EUA discutiram o cancelame...  ...  http://www1.folha.uol.com.br/mundo/2015/10/168...\n",
              "84495  Quartas da Liga dos Campeões terão Bayern x Re...  ...  http://www1.folha.uol.com.br/esporte/2017/03/1...\n",
              "59051  China deteve mil defensores dos direitos human...  ...  http://www1.folha.uol.com.br/mundo/2015/03/160...\n",
              "\n",
              "[5 rows x 6 columns]"
            ]
          },
          "metadata": {},
          "execution_count": 4
        }
      ]
    },
    {
      "cell_type": "code",
      "metadata": {
        "colab": {
          "base_uri": "https://localhost:8080/"
        },
        "id": "GWAGSFuuy2tP",
        "outputId": "710845d3-97a6-4143-b0ed-4aa0e6a248c3"
      },
      "source": [
        "nlp"
      ],
      "execution_count": 5,
      "outputs": [
        {
          "output_type": "execute_result",
          "data": {
            "text/plain": [
              "<spacy.lang.pt.Portuguese at 0x7fdf0f973610>"
            ]
          },
          "metadata": {},
          "execution_count": 5
        }
      ]
    },
    {
      "cell_type": "code",
      "metadata": {
        "id": "J1nas5fuzIhR"
      },
      "source": [
        "texto = \"Rio de 23121534 Janeiro 214 é uma ((((++++)))) cidade maravilhosa\"\n",
        "doc = nlp(texto)"
      ],
      "execution_count": 6,
      "outputs": []
    },
    {
      "cell_type": "code",
      "metadata": {
        "colab": {
          "base_uri": "https://localhost:8080/"
        },
        "id": "08D2j5uDQn7d",
        "outputId": "34ca3ce3-a950-4957-b932-f8b5044363ba"
      },
      "source": [
        "doc.ents"
      ],
      "execution_count": 7,
      "outputs": [
        {
          "output_type": "execute_result",
          "data": {
            "text/plain": [
              "(Rio de 23121534 Janeiro,)"
            ]
          },
          "metadata": {},
          "execution_count": 7
        }
      ]
    },
    {
      "cell_type": "code",
      "metadata": {
        "colab": {
          "base_uri": "https://localhost:8080/"
        },
        "id": "riyIDZ2SRIR3",
        "outputId": "c262eba5-af95-461a-cfe6-a5d1191dd6e1"
      },
      "source": [
        "doc[1].is_stop"
      ],
      "execution_count": 8,
      "outputs": [
        {
          "output_type": "execute_result",
          "data": {
            "text/plain": [
              "True"
            ]
          },
          "metadata": {},
          "execution_count": 8
        }
      ]
    },
    {
      "cell_type": "code",
      "metadata": {
        "id": "065Hf7KVTETJ"
      },
      "source": [
        "textos_para_tratamentos = (titulos.lower() for titulos in dados_treino['title'])"
      ],
      "execution_count": 9,
      "outputs": []
    },
    {
      "cell_type": "code",
      "metadata": {
        "colab": {
          "base_uri": "https://localhost:8080/"
        },
        "id": "aMRdDALGTjot",
        "outputId": "479ca25e-a593-4092-ee1e-0d69e300d437"
      },
      "source": [
        "textos_para_tratamentos"
      ],
      "execution_count": 10,
      "outputs": [
        {
          "output_type": "execute_result",
          "data": {
            "text/plain": [
              "<generator object <genexpr> at 0x7fdefd6f6f50>"
            ]
          },
          "metadata": {},
          "execution_count": 10
        }
      ]
    },
    {
      "cell_type": "code",
      "metadata": {
        "id": "CeFOKqbQRW0G"
      },
      "source": [
        "def trata_textos(doc):\n",
        "  tokens_validos = []\n",
        "  for token in doc:\n",
        "    e_valido = not token.is_stop and token.is_alpha\n",
        "    if e_valido:\n",
        "      tokens_validos.append(token.text)\n",
        "  if len(tokens_validos) > 2:\n",
        "    return ' '.join(tokens_validos)"
      ],
      "execution_count": 11,
      "outputs": []
    },
    {
      "cell_type": "code",
      "metadata": {
        "colab": {
          "base_uri": "https://localhost:8080/",
          "height": 35
        },
        "id": "iM6RE3gdUn8x",
        "outputId": "29e399de-520c-4158-a731-8742b2062a67"
      },
      "source": [
        "trata_textos(doc)"
      ],
      "execution_count": 12,
      "outputs": [
        {
          "output_type": "execute_result",
          "data": {
            "application/vnd.google.colaboratory.intrinsic+json": {
              "type": "string"
            },
            "text/plain": [
              "'Rio Janeiro cidade maravilhosa'"
            ]
          },
          "metadata": {},
          "execution_count": 12
        }
      ]
    },
    {
      "cell_type": "code",
      "metadata": {
        "id": "KWZbRaJ9UqKy"
      },
      "source": [
        "textos_tratados = [trata_textos(doc) for doc in nlp.pipe(textos_para_tratamentos, batch_size=1000, n_process= -1)]"
      ],
      "execution_count": 13,
      "outputs": []
    },
    {
      "cell_type": "code",
      "metadata": {
        "id": "EnC_TRF5Waxy"
      },
      "source": [
        "titulos_tratados = pd.DataFrame({'titulo': textos_tratados})"
      ],
      "execution_count": 14,
      "outputs": []
    },
    {
      "cell_type": "code",
      "metadata": {
        "colab": {
          "base_uri": "https://localhost:8080/",
          "height": 204
        },
        "id": "DlUjCsUUbdnD",
        "outputId": "52b64907-0cb1-4e1d-e861-248936b94665"
      },
      "source": [
        "titulos_tratados.head()"
      ],
      "execution_count": 15,
      "outputs": [
        {
          "output_type": "execute_result",
          "data": {
            "text/html": [
              "<div>\n",
              "<style scoped>\n",
              "    .dataframe tbody tr th:only-of-type {\n",
              "        vertical-align: middle;\n",
              "    }\n",
              "\n",
              "    .dataframe tbody tr th {\n",
              "        vertical-align: top;\n",
              "    }\n",
              "\n",
              "    .dataframe thead th {\n",
              "        text-align: right;\n",
              "    }\n",
              "</style>\n",
              "<table border=\"1\" class=\"dataframe\">\n",
              "  <thead>\n",
              "    <tr style=\"text-align: right;\">\n",
              "      <th></th>\n",
              "      <th>titulo</th>\n",
              "    </tr>\n",
              "  </thead>\n",
              "  <tbody>\n",
              "    <tr>\n",
              "      <th>0</th>\n",
              "      <td>polêmica marine le pen abomina negacionistas h...</td>\n",
              "    </tr>\n",
              "    <tr>\n",
              "      <th>1</th>\n",
              "      <td>macron e le pen a o turno frança revés siglas ...</td>\n",
              "    </tr>\n",
              "    <tr>\n",
              "      <th>2</th>\n",
              "      <td>apesar larga vitória legislativas macron terá ...</td>\n",
              "    </tr>\n",
              "    <tr>\n",
              "      <th>3</th>\n",
              "      <td>governo antecipa balanço e alckmin anuncia que...</td>\n",
              "    </tr>\n",
              "    <tr>\n",
              "      <th>4</th>\n",
              "      <td>queda maio a atividade econômica sobe junho bc</td>\n",
              "    </tr>\n",
              "  </tbody>\n",
              "</table>\n",
              "</div>"
            ],
            "text/plain": [
              "                                              titulo\n",
              "0  polêmica marine le pen abomina negacionistas h...\n",
              "1  macron e le pen a o turno frança revés siglas ...\n",
              "2  apesar larga vitória legislativas macron terá ...\n",
              "3  governo antecipa balanço e alckmin anuncia que...\n",
              "4     queda maio a atividade econômica sobe junho bc"
            ]
          },
          "metadata": {},
          "execution_count": 15
        }
      ]
    },
    {
      "cell_type": "code",
      "metadata": {
        "id": "RrCcGsdLbfzu"
      },
      "source": [
        "from gensim.models import Word2Vec\n",
        "\n",
        "w2v_modelo = Word2Vec(sg = 0, window = 2, size = 300, min_count = 5, alpha = 0.03, min_alpha= 0.007)"
      ],
      "execution_count": 16,
      "outputs": []
    },
    {
      "cell_type": "code",
      "metadata": {
        "colab": {
          "base_uri": "https://localhost:8080/"
        },
        "id": "32bWcBV_mgw4",
        "outputId": "0af79153-8572-4e5a-dacb-df6693466817"
      },
      "source": [
        "print(len(titulos_tratados))"
      ],
      "execution_count": 17,
      "outputs": [
        {
          "output_type": "stream",
          "text": [
            "90000\n"
          ],
          "name": "stdout"
        }
      ]
    },
    {
      "cell_type": "code",
      "metadata": {
        "id": "uUEMOJl6mgln"
      },
      "source": [
        "titulos_tratados = titulos_tratados.dropna().drop_duplicates()"
      ],
      "execution_count": 18,
      "outputs": []
    },
    {
      "cell_type": "code",
      "metadata": {
        "id": "B-N7Yx2_kSDK"
      },
      "source": [
        "\n",
        "lista_lista_tokens = [titulo.split(\" \") for titulo in titulos_tratados.titulo]"
      ],
      "execution_count": 19,
      "outputs": []
    },
    {
      "cell_type": "code",
      "metadata": {
        "colab": {
          "base_uri": "https://localhost:8080/"
        },
        "id": "Fu5iXkvOm52_",
        "outputId": "bee0018c-d3ab-4a4d-c3a1-cfae7a287ae8"
      },
      "source": [
        "import logging\n",
        "\n",
        "logging.basicConfig(format=\"%(asctime)s : - %(message)s\", level = logging.INFO)\n",
        "\n",
        "w2v_modelo = Word2Vec(sg = 0,\n",
        "                      window = 2,\n",
        "                      size = 300,\n",
        "                      min_count = 5,\n",
        "                      alpha = 0.03,\n",
        "                      min_alpha = 0.007)\n",
        "\n",
        "w2v_modelo.build_vocab(lista_lista_tokens, progress_per=5000)"
      ],
      "execution_count": 20,
      "outputs": [
        {
          "output_type": "stream",
          "text": [
            "2021-08-19 14:31:19,364 : - collecting all words and their counts\n",
            "2021-08-19 14:31:19,367 : - PROGRESS: at sentence #0, processed 0 words, keeping 0 word types\n",
            "2021-08-19 14:31:19,384 : - PROGRESS: at sentence #5000, processed 34716 words, keeping 10129 word types\n",
            "2021-08-19 14:31:19,399 : - PROGRESS: at sentence #10000, processed 69298 words, keeping 14909 word types\n",
            "2021-08-19 14:31:19,417 : - PROGRESS: at sentence #15000, processed 103841 words, keeping 18223 word types\n",
            "2021-08-19 14:31:19,436 : - PROGRESS: at sentence #20000, processed 138620 words, keeping 20969 word types\n",
            "2021-08-19 14:31:19,452 : - PROGRESS: at sentence #25000, processed 173257 words, keeping 23410 word types\n",
            "2021-08-19 14:31:19,468 : - PROGRESS: at sentence #30000, processed 207976 words, keeping 25453 word types\n",
            "2021-08-19 14:31:19,488 : - PROGRESS: at sentence #35000, processed 242567 words, keeping 27263 word types\n",
            "2021-08-19 14:31:19,505 : - PROGRESS: at sentence #40000, processed 277254 words, keeping 28992 word types\n",
            "2021-08-19 14:31:19,522 : - PROGRESS: at sentence #45000, processed 311910 words, keeping 30561 word types\n",
            "2021-08-19 14:31:19,540 : - PROGRESS: at sentence #50000, processed 346641 words, keeping 31924 word types\n",
            "2021-08-19 14:31:19,556 : - PROGRESS: at sentence #55000, processed 381564 words, keeping 33224 word types\n",
            "2021-08-19 14:31:19,582 : - PROGRESS: at sentence #60000, processed 416318 words, keeping 34458 word types\n",
            "2021-08-19 14:31:19,599 : - PROGRESS: at sentence #65000, processed 451172 words, keeping 35585 word types\n",
            "2021-08-19 14:31:19,624 : - PROGRESS: at sentence #70000, processed 485882 words, keeping 36651 word types\n",
            "2021-08-19 14:31:19,641 : - PROGRESS: at sentence #75000, processed 520667 words, keeping 37767 word types\n",
            "2021-08-19 14:31:19,665 : - PROGRESS: at sentence #80000, processed 555521 words, keeping 38741 word types\n",
            "2021-08-19 14:31:19,687 : - PROGRESS: at sentence #85000, processed 590198 words, keeping 39739 word types\n",
            "2021-08-19 14:31:19,694 : - collected 39968 word types from a corpus of 597929 raw words and 86113 sentences\n",
            "2021-08-19 14:31:19,696 : - Loading a fresh vocabulary\n",
            "2021-08-19 14:31:19,743 : - effective_min_count=5 retains 13006 unique words (32% of original 39968, drops 26962)\n",
            "2021-08-19 14:31:19,746 : - effective_min_count=5 leaves 552614 word corpus (92% of original 597929, drops 45315)\n",
            "2021-08-19 14:31:19,795 : - deleting the raw counts dictionary of 39968 items\n",
            "2021-08-19 14:31:19,798 : - sample=0.001 downsamples 11 most-common words\n",
            "2021-08-19 14:31:19,800 : - downsampling leaves estimated 502900 word corpus (91.0% of prior 552614)\n",
            "2021-08-19 14:31:19,858 : - estimated required memory for 13006 words and 300 dimensions: 37717400 bytes\n",
            "2021-08-19 14:31:19,859 : - resetting layer weights\n"
          ],
          "name": "stderr"
        }
      ]
    },
    {
      "cell_type": "code",
      "metadata": {
        "colab": {
          "base_uri": "https://localhost:8080/"
        },
        "id": "1znrz63vreK4",
        "outputId": "d6d13a35-b65c-470e-bf5c-4f65322af074"
      },
      "source": [
        "dir(w2v_modelo)"
      ],
      "execution_count": 21,
      "outputs": [
        {
          "output_type": "execute_result",
          "data": {
            "text/plain": [
              "['__class__',\n",
              " '__contains__',\n",
              " '__delattr__',\n",
              " '__dict__',\n",
              " '__dir__',\n",
              " '__doc__',\n",
              " '__eq__',\n",
              " '__format__',\n",
              " '__ge__',\n",
              " '__getattribute__',\n",
              " '__getitem__',\n",
              " '__gt__',\n",
              " '__hash__',\n",
              " '__init__',\n",
              " '__init_subclass__',\n",
              " '__le__',\n",
              " '__lt__',\n",
              " '__module__',\n",
              " '__ne__',\n",
              " '__new__',\n",
              " '__reduce__',\n",
              " '__reduce_ex__',\n",
              " '__repr__',\n",
              " '__setattr__',\n",
              " '__sizeof__',\n",
              " '__str__',\n",
              " '__subclasshook__',\n",
              " '__weakref__',\n",
              " '_adapt_by_suffix',\n",
              " '_check_input_data_sanity',\n",
              " '_check_training_sanity',\n",
              " '_clear_post_train',\n",
              " '_do_train_epoch',\n",
              " '_do_train_job',\n",
              " '_get_job_params',\n",
              " '_get_thread_working_mem',\n",
              " '_job_producer',\n",
              " '_load_specials',\n",
              " '_log_epoch_end',\n",
              " '_log_epoch_progress',\n",
              " '_log_progress',\n",
              " '_log_train_end',\n",
              " '_minimize_model',\n",
              " '_raw_word_count',\n",
              " '_save_specials',\n",
              " '_set_train_params',\n",
              " '_smart_save',\n",
              " '_train_epoch',\n",
              " '_train_epoch_corpusfile',\n",
              " '_update_job_params',\n",
              " '_worker_loop',\n",
              " '_worker_loop_corpusfile',\n",
              " 'accuracy',\n",
              " 'alpha',\n",
              " 'batch_words',\n",
              " 'build_vocab',\n",
              " 'build_vocab_from_freq',\n",
              " 'callbacks',\n",
              " 'cbow_mean',\n",
              " 'clear_sims',\n",
              " 'compute_loss',\n",
              " 'corpus_count',\n",
              " 'corpus_total_words',\n",
              " 'cum_table',\n",
              " 'delete_temporary_training_data',\n",
              " 'doesnt_match',\n",
              " 'epochs',\n",
              " 'estimate_memory',\n",
              " 'evaluate_word_pairs',\n",
              " 'get_latest_training_loss',\n",
              " 'hashfxn',\n",
              " 'hs',\n",
              " 'init_sims',\n",
              " 'intersect_word2vec_format',\n",
              " 'iter',\n",
              " 'layer1_size',\n",
              " 'load',\n",
              " 'load_word2vec_format',\n",
              " 'log_accuracy',\n",
              " 'max_final_vocab',\n",
              " 'min_alpha',\n",
              " 'min_alpha_yet_reached',\n",
              " 'min_count',\n",
              " 'model_trimmed_post_training',\n",
              " 'most_similar',\n",
              " 'most_similar_cosmul',\n",
              " 'n_similarity',\n",
              " 'negative',\n",
              " 'ns_exponent',\n",
              " 'predict_output_word',\n",
              " 'random',\n",
              " 'reset_from',\n",
              " 'running_training_loss',\n",
              " 'sample',\n",
              " 'save',\n",
              " 'save_word2vec_format',\n",
              " 'score',\n",
              " 'sg',\n",
              " 'similar_by_vector',\n",
              " 'similar_by_word',\n",
              " 'similarity',\n",
              " 'syn0_lockf',\n",
              " 'syn1',\n",
              " 'syn1neg',\n",
              " 'total_train_time',\n",
              " 'train',\n",
              " 'train_count',\n",
              " 'trainables',\n",
              " 'vector_size',\n",
              " 'vocabulary',\n",
              " 'window',\n",
              " 'wmdistance',\n",
              " 'workers',\n",
              " 'wv']"
            ]
          },
          "metadata": {},
          "execution_count": 21
        }
      ]
    },
    {
      "cell_type": "code",
      "metadata": {
        "colab": {
          "base_uri": "https://localhost:8080/"
        },
        "id": "LJ_taXd-tV3J",
        "outputId": "b72e4297-8ea7-4328-c91a-526d9fdbb957"
      },
      "source": [
        "w2v_modelo.corpus_count"
      ],
      "execution_count": 22,
      "outputs": [
        {
          "output_type": "execute_result",
          "data": {
            "text/plain": [
              "86113"
            ]
          },
          "metadata": {},
          "execution_count": 22
        }
      ]
    },
    {
      "cell_type": "code",
      "metadata": {
        "colab": {
          "base_uri": "https://localhost:8080/"
        },
        "id": "6kYCr4IDtBgM",
        "outputId": "1b3d100f-a870-42dd-8aa9-fd708f12f12a"
      },
      "source": [
        "w2v_modelo.train(lista_lista_tokens,\n",
        "                 total_examples = w2v_modelo.corpus_count,\n",
        "                 epochs = 30)"
      ],
      "execution_count": 23,
      "outputs": [
        {
          "output_type": "stream",
          "text": [
            "2021-08-19 14:31:22,743 : - training model with 3 workers on 13006 vocabulary and 300 features, using sg=0 hs=0 sample=0.001 negative=5 window=2\n",
            "2021-08-19 14:31:23,769 : - EPOCH 1 - PROGRESS: at 61.92% examples, 310005 words/s, in_qsize 6, out_qsize 0\n",
            "2021-08-19 14:31:24,353 : - worker thread finished; awaiting finish of 2 more threads\n",
            "2021-08-19 14:31:24,363 : - worker thread finished; awaiting finish of 1 more threads\n",
            "2021-08-19 14:31:24,384 : - worker thread finished; awaiting finish of 0 more threads\n",
            "2021-08-19 14:31:24,387 : - EPOCH - 1 : training on 597929 raw words (502758 effective words) took 1.6s, 310119 effective words/s\n",
            "2021-08-19 14:31:25,404 : - EPOCH 2 - PROGRESS: at 58.61% examples, 293695 words/s, in_qsize 6, out_qsize 0\n",
            "2021-08-19 14:31:25,966 : - worker thread finished; awaiting finish of 2 more threads\n",
            "2021-08-19 14:31:26,003 : - worker thread finished; awaiting finish of 1 more threads\n",
            "2021-08-19 14:31:26,011 : - worker thread finished; awaiting finish of 0 more threads\n",
            "2021-08-19 14:31:26,013 : - EPOCH - 2 : training on 597929 raw words (502838 effective words) took 1.6s, 312140 effective words/s\n",
            "2021-08-19 14:31:27,029 : - EPOCH 3 - PROGRESS: at 61.92% examples, 310375 words/s, in_qsize 5, out_qsize 0\n",
            "2021-08-19 14:31:27,578 : - worker thread finished; awaiting finish of 2 more threads\n",
            "2021-08-19 14:31:27,590 : - worker thread finished; awaiting finish of 1 more threads\n",
            "2021-08-19 14:31:27,597 : - worker thread finished; awaiting finish of 0 more threads\n",
            "2021-08-19 14:31:27,599 : - EPOCH - 3 : training on 597929 raw words (502960 effective words) took 1.6s, 319839 effective words/s\n",
            "2021-08-19 14:31:28,644 : - EPOCH 4 - PROGRESS: at 63.60% examples, 309646 words/s, in_qsize 5, out_qsize 0\n",
            "2021-08-19 14:31:29,150 : - worker thread finished; awaiting finish of 2 more threads\n",
            "2021-08-19 14:31:29,165 : - worker thread finished; awaiting finish of 1 more threads\n",
            "2021-08-19 14:31:29,174 : - worker thread finished; awaiting finish of 0 more threads\n",
            "2021-08-19 14:31:29,177 : - EPOCH - 4 : training on 597929 raw words (502972 effective words) took 1.6s, 321432 effective words/s\n",
            "2021-08-19 14:31:30,215 : - EPOCH 5 - PROGRESS: at 63.60% examples, 312693 words/s, in_qsize 5, out_qsize 0\n",
            "2021-08-19 14:31:30,715 : - worker thread finished; awaiting finish of 2 more threads\n",
            "2021-08-19 14:31:30,722 : - worker thread finished; awaiting finish of 1 more threads\n",
            "2021-08-19 14:31:30,746 : - worker thread finished; awaiting finish of 0 more threads\n",
            "2021-08-19 14:31:30,747 : - EPOCH - 5 : training on 597929 raw words (502898 effective words) took 1.6s, 323542 effective words/s\n",
            "2021-08-19 14:31:31,788 : - EPOCH 6 - PROGRESS: at 63.60% examples, 311086 words/s, in_qsize 5, out_qsize 0\n",
            "2021-08-19 14:31:32,289 : - worker thread finished; awaiting finish of 2 more threads\n",
            "2021-08-19 14:31:32,310 : - worker thread finished; awaiting finish of 1 more threads\n",
            "2021-08-19 14:31:32,326 : - worker thread finished; awaiting finish of 0 more threads\n",
            "2021-08-19 14:31:32,328 : - EPOCH - 6 : training on 597929 raw words (503069 effective words) took 1.6s, 320902 effective words/s\n",
            "2021-08-19 14:31:33,357 : - EPOCH 7 - PROGRESS: at 61.93% examples, 305577 words/s, in_qsize 5, out_qsize 0\n",
            "2021-08-19 14:31:33,869 : - worker thread finished; awaiting finish of 2 more threads\n",
            "2021-08-19 14:31:33,888 : - worker thread finished; awaiting finish of 1 more threads\n",
            "2021-08-19 14:31:33,899 : - worker thread finished; awaiting finish of 0 more threads\n",
            "2021-08-19 14:31:33,900 : - EPOCH - 7 : training on 597929 raw words (503015 effective words) took 1.6s, 322205 effective words/s\n",
            "2021-08-19 14:31:34,923 : - EPOCH 8 - PROGRESS: at 61.92% examples, 310937 words/s, in_qsize 5, out_qsize 0\n",
            "2021-08-19 14:31:35,472 : - worker thread finished; awaiting finish of 2 more threads\n",
            "2021-08-19 14:31:35,485 : - worker thread finished; awaiting finish of 1 more threads\n",
            "2021-08-19 14:31:35,507 : - worker thread finished; awaiting finish of 0 more threads\n",
            "2021-08-19 14:31:35,508 : - EPOCH - 8 : training on 597929 raw words (502969 effective words) took 1.6s, 317125 effective words/s\n",
            "2021-08-19 14:31:36,553 : - EPOCH 9 - PROGRESS: at 63.60% examples, 309193 words/s, in_qsize 5, out_qsize 0\n",
            "2021-08-19 14:31:37,033 : - worker thread finished; awaiting finish of 2 more threads\n",
            "2021-08-19 14:31:37,063 : - worker thread finished; awaiting finish of 1 more threads\n",
            "2021-08-19 14:31:37,078 : - worker thread finished; awaiting finish of 0 more threads\n",
            "2021-08-19 14:31:37,079 : - EPOCH - 9 : training on 597929 raw words (502837 effective words) took 1.6s, 322319 effective words/s\n",
            "2021-08-19 14:31:38,096 : - EPOCH 10 - PROGRESS: at 61.92% examples, 310538 words/s, in_qsize 5, out_qsize 0\n",
            "2021-08-19 14:31:38,624 : - worker thread finished; awaiting finish of 2 more threads\n",
            "2021-08-19 14:31:38,644 : - worker thread finished; awaiting finish of 1 more threads\n",
            "2021-08-19 14:31:38,646 : - worker thread finished; awaiting finish of 0 more threads\n",
            "2021-08-19 14:31:38,647 : - EPOCH - 10 : training on 597929 raw words (502935 effective words) took 1.6s, 323730 effective words/s\n",
            "2021-08-19 14:31:39,686 : - EPOCH 11 - PROGRESS: at 65.27% examples, 326349 words/s, in_qsize 5, out_qsize 0\n",
            "2021-08-19 14:31:40,172 : - worker thread finished; awaiting finish of 2 more threads\n",
            "2021-08-19 14:31:40,207 : - worker thread finished; awaiting finish of 1 more threads\n",
            "2021-08-19 14:31:40,212 : - worker thread finished; awaiting finish of 0 more threads\n",
            "2021-08-19 14:31:40,213 : - EPOCH - 11 : training on 597929 raw words (502831 effective words) took 1.5s, 328193 effective words/s\n",
            "2021-08-19 14:31:41,248 : - EPOCH 12 - PROGRESS: at 63.60% examples, 313162 words/s, in_qsize 5, out_qsize 0\n",
            "2021-08-19 14:31:41,728 : - worker thread finished; awaiting finish of 2 more threads\n",
            "2021-08-19 14:31:41,733 : - worker thread finished; awaiting finish of 1 more threads\n",
            "2021-08-19 14:31:41,760 : - worker thread finished; awaiting finish of 0 more threads\n",
            "2021-08-19 14:31:41,762 : - EPOCH - 12 : training on 597929 raw words (502959 effective words) took 1.5s, 327783 effective words/s\n",
            "2021-08-19 14:31:42,782 : - EPOCH 13 - PROGRESS: at 63.60% examples, 315534 words/s, in_qsize 5, out_qsize 0\n",
            "2021-08-19 14:31:43,282 : - worker thread finished; awaiting finish of 2 more threads\n",
            "2021-08-19 14:31:43,288 : - worker thread finished; awaiting finish of 1 more threads\n",
            "2021-08-19 14:31:43,316 : - worker thread finished; awaiting finish of 0 more threads\n",
            "2021-08-19 14:31:43,317 : - EPOCH - 13 : training on 597929 raw words (502770 effective words) took 1.5s, 324899 effective words/s\n",
            "2021-08-19 14:31:44,342 : - EPOCH 14 - PROGRESS: at 61.95% examples, 306597 words/s, in_qsize 5, out_qsize 0\n",
            "2021-08-19 14:31:44,840 : - worker thread finished; awaiting finish of 2 more threads\n",
            "2021-08-19 14:31:44,863 : - worker thread finished; awaiting finish of 1 more threads\n",
            "2021-08-19 14:31:44,868 : - worker thread finished; awaiting finish of 0 more threads\n",
            "2021-08-19 14:31:44,871 : - EPOCH - 14 : training on 597929 raw words (502821 effective words) took 1.5s, 325779 effective words/s\n",
            "2021-08-19 14:31:45,909 : - EPOCH 15 - PROGRESS: at 63.59% examples, 312074 words/s, in_qsize 5, out_qsize 0\n",
            "2021-08-19 14:31:46,389 : - worker thread finished; awaiting finish of 2 more threads\n",
            "2021-08-19 14:31:46,424 : - worker thread finished; awaiting finish of 1 more threads\n",
            "2021-08-19 14:31:46,437 : - worker thread finished; awaiting finish of 0 more threads\n",
            "2021-08-19 14:31:46,438 : - EPOCH - 15 : training on 597929 raw words (502890 effective words) took 1.6s, 323828 effective words/s\n",
            "2021-08-19 14:31:47,483 : - EPOCH 16 - PROGRESS: at 63.60% examples, 309824 words/s, in_qsize 5, out_qsize 0\n",
            "2021-08-19 14:31:47,964 : - worker thread finished; awaiting finish of 2 more threads\n",
            "2021-08-19 14:31:47,973 : - worker thread finished; awaiting finish of 1 more threads\n",
            "2021-08-19 14:31:47,987 : - worker thread finished; awaiting finish of 0 more threads\n",
            "2021-08-19 14:31:47,988 : - EPOCH - 16 : training on 597929 raw words (503020 effective words) took 1.5s, 327311 effective words/s\n",
            "2021-08-19 14:31:49,015 : - EPOCH 17 - PROGRESS: at 65.27% examples, 323634 words/s, in_qsize 5, out_qsize 0\n",
            "2021-08-19 14:31:49,507 : - worker thread finished; awaiting finish of 2 more threads\n",
            "2021-08-19 14:31:49,515 : - worker thread finished; awaiting finish of 1 more threads\n",
            "2021-08-19 14:31:49,517 : - worker thread finished; awaiting finish of 0 more threads\n",
            "2021-08-19 14:31:49,520 : - EPOCH - 17 : training on 597929 raw words (502872 effective words) took 1.5s, 331298 effective words/s\n",
            "2021-08-19 14:31:50,544 : - EPOCH 18 - PROGRESS: at 65.27% examples, 324965 words/s, in_qsize 5, out_qsize 0\n",
            "2021-08-19 14:31:50,995 : - worker thread finished; awaiting finish of 2 more threads\n",
            "2021-08-19 14:31:51,011 : - worker thread finished; awaiting finish of 1 more threads\n",
            "2021-08-19 14:31:51,031 : - worker thread finished; awaiting finish of 0 more threads\n",
            "2021-08-19 14:31:51,033 : - EPOCH - 18 : training on 597929 raw words (502952 effective words) took 1.5s, 335705 effective words/s\n",
            "2021-08-19 14:31:52,056 : - EPOCH 19 - PROGRESS: at 65.27% examples, 325149 words/s, in_qsize 5, out_qsize 0\n",
            "2021-08-19 14:31:52,549 : - worker thread finished; awaiting finish of 2 more threads\n",
            "2021-08-19 14:31:52,552 : - worker thread finished; awaiting finish of 1 more threads\n",
            "2021-08-19 14:31:52,557 : - worker thread finished; awaiting finish of 0 more threads\n",
            "2021-08-19 14:31:52,559 : - EPOCH - 19 : training on 597929 raw words (502962 effective words) took 1.5s, 332834 effective words/s\n",
            "2021-08-19 14:31:53,583 : - EPOCH 20 - PROGRESS: at 63.60% examples, 315447 words/s, in_qsize 4, out_qsize 1\n",
            "2021-08-19 14:31:54,025 : - worker thread finished; awaiting finish of 2 more threads\n",
            "2021-08-19 14:31:54,064 : - worker thread finished; awaiting finish of 1 more threads\n",
            "2021-08-19 14:31:54,074 : - worker thread finished; awaiting finish of 0 more threads\n",
            "2021-08-19 14:31:54,076 : - EPOCH - 20 : training on 597929 raw words (502777 effective words) took 1.5s, 333984 effective words/s\n",
            "2021-08-19 14:31:55,099 : - EPOCH 21 - PROGRESS: at 63.59% examples, 316727 words/s, in_qsize 4, out_qsize 1\n",
            "2021-08-19 14:31:55,557 : - worker thread finished; awaiting finish of 2 more threads\n",
            "2021-08-19 14:31:55,585 : - worker thread finished; awaiting finish of 1 more threads\n",
            "2021-08-19 14:31:55,597 : - worker thread finished; awaiting finish of 0 more threads\n",
            "2021-08-19 14:31:55,598 : - EPOCH - 21 : training on 597929 raw words (502975 effective words) took 1.5s, 333583 effective words/s\n",
            "2021-08-19 14:31:56,624 : - EPOCH 22 - PROGRESS: at 65.27% examples, 324562 words/s, in_qsize 5, out_qsize 0\n",
            "2021-08-19 14:31:57,067 : - worker thread finished; awaiting finish of 2 more threads\n",
            "2021-08-19 14:31:57,086 : - worker thread finished; awaiting finish of 1 more threads\n",
            "2021-08-19 14:31:57,098 : - worker thread finished; awaiting finish of 0 more threads\n",
            "2021-08-19 14:31:57,099 : - EPOCH - 22 : training on 597929 raw words (502803 effective words) took 1.5s, 338576 effective words/s\n",
            "2021-08-19 14:31:58,133 : - EPOCH 23 - PROGRESS: at 65.27% examples, 322953 words/s, in_qsize 5, out_qsize 0\n",
            "2021-08-19 14:31:58,575 : - worker thread finished; awaiting finish of 2 more threads\n",
            "2021-08-19 14:31:58,605 : - worker thread finished; awaiting finish of 1 more threads\n",
            "2021-08-19 14:31:58,618 : - worker thread finished; awaiting finish of 0 more threads\n",
            "2021-08-19 14:31:58,619 : - EPOCH - 23 : training on 597929 raw words (502964 effective words) took 1.5s, 334989 effective words/s\n",
            "2021-08-19 14:31:59,644 : - EPOCH 24 - PROGRESS: at 65.27% examples, 323202 words/s, in_qsize 5, out_qsize 0\n",
            "2021-08-19 14:32:00,081 : - worker thread finished; awaiting finish of 2 more threads\n",
            "2021-08-19 14:32:00,118 : - worker thread finished; awaiting finish of 1 more threads\n",
            "2021-08-19 14:32:00,125 : - worker thread finished; awaiting finish of 0 more threads\n",
            "2021-08-19 14:32:00,126 : - EPOCH - 24 : training on 597929 raw words (502858 effective words) took 1.5s, 336094 effective words/s\n",
            "2021-08-19 14:32:01,167 : - EPOCH 25 - PROGRESS: at 65.27% examples, 319675 words/s, in_qsize 4, out_qsize 1\n",
            "2021-08-19 14:32:01,611 : - worker thread finished; awaiting finish of 2 more threads\n",
            "2021-08-19 14:32:01,622 : - worker thread finished; awaiting finish of 1 more threads\n",
            "2021-08-19 14:32:01,640 : - worker thread finished; awaiting finish of 0 more threads\n",
            "2021-08-19 14:32:01,641 : - EPOCH - 25 : training on 597929 raw words (502820 effective words) took 1.5s, 335308 effective words/s\n",
            "2021-08-19 14:32:02,665 : - EPOCH 26 - PROGRESS: at 65.27% examples, 325118 words/s, in_qsize 5, out_qsize 0\n",
            "2021-08-19 14:32:03,138 : - worker thread finished; awaiting finish of 2 more threads\n",
            "2021-08-19 14:32:03,151 : - worker thread finished; awaiting finish of 1 more threads\n",
            "2021-08-19 14:32:03,163 : - worker thread finished; awaiting finish of 0 more threads\n",
            "2021-08-19 14:32:03,164 : - EPOCH - 26 : training on 597929 raw words (503069 effective words) took 1.5s, 333661 effective words/s\n",
            "2021-08-19 14:32:04,191 : - EPOCH 27 - PROGRESS: at 65.27% examples, 324530 words/s, in_qsize 5, out_qsize 0\n",
            "2021-08-19 14:32:04,658 : - worker thread finished; awaiting finish of 2 more threads\n",
            "2021-08-19 14:32:04,659 : - worker thread finished; awaiting finish of 1 more threads\n",
            "2021-08-19 14:32:04,687 : - worker thread finished; awaiting finish of 0 more threads\n",
            "2021-08-19 14:32:04,688 : - EPOCH - 27 : training on 597929 raw words (502973 effective words) took 1.5s, 333538 effective words/s\n",
            "2021-08-19 14:32:05,704 : - EPOCH 28 - PROGRESS: at 63.60% examples, 318795 words/s, in_qsize 5, out_qsize 0\n",
            "2021-08-19 14:32:06,189 : - worker thread finished; awaiting finish of 2 more threads\n",
            "2021-08-19 14:32:06,201 : - worker thread finished; awaiting finish of 1 more threads\n",
            "2021-08-19 14:32:06,226 : - worker thread finished; awaiting finish of 0 more threads\n",
            "2021-08-19 14:32:06,227 : - EPOCH - 28 : training on 597929 raw words (502966 effective words) took 1.5s, 329592 effective words/s\n",
            "2021-08-19 14:32:07,248 : - EPOCH 29 - PROGRESS: at 63.60% examples, 317203 words/s, in_qsize 4, out_qsize 1\n",
            "2021-08-19 14:32:07,712 : - worker thread finished; awaiting finish of 2 more threads\n",
            "2021-08-19 14:32:07,734 : - worker thread finished; awaiting finish of 1 more threads\n",
            "2021-08-19 14:32:07,742 : - worker thread finished; awaiting finish of 0 more threads\n",
            "2021-08-19 14:32:07,746 : - EPOCH - 29 : training on 597929 raw words (502878 effective words) took 1.5s, 333922 effective words/s\n",
            "2021-08-19 14:32:08,775 : - EPOCH 30 - PROGRESS: at 66.94% examples, 335832 words/s, in_qsize 5, out_qsize 0\n",
            "2021-08-19 14:32:09,226 : - worker thread finished; awaiting finish of 2 more threads\n",
            "2021-08-19 14:32:09,235 : - worker thread finished; awaiting finish of 1 more threads\n",
            "2021-08-19 14:32:09,256 : - worker thread finished; awaiting finish of 0 more threads\n",
            "2021-08-19 14:32:09,258 : - EPOCH - 30 : training on 597929 raw words (503326 effective words) took 1.5s, 338883 effective words/s\n",
            "2021-08-19 14:32:09,260 : - training on a 17937870 raw words (15087737 effective words) took 46.5s, 324372 effective words/s\n"
          ],
          "name": "stderr"
        },
        {
          "output_type": "execute_result",
          "data": {
            "text/plain": [
              "(15087737, 17937870)"
            ]
          },
          "metadata": {},
          "execution_count": 23
        }
      ]
    },
    {
      "cell_type": "code",
      "metadata": {
        "colab": {
          "base_uri": "https://localhost:8080/"
        },
        "id": "rc6QkrxttZKP",
        "outputId": "9dc9295a-6b2f-4a5f-b9f8-e4aa1ef6cc60"
      },
      "source": [
        "w2v_modelo.wv.most_similar('google')"
      ],
      "execution_count": 24,
      "outputs": [
        {
          "output_type": "stream",
          "text": [
            "2021-08-19 14:32:09,275 : - precomputing L2-norms of word weight vectors\n"
          ],
          "name": "stderr"
        },
        {
          "output_type": "execute_result",
          "data": {
            "text/plain": [
              "[('apple', 0.6005527973175049),\n",
              " ('facebook', 0.5749070644378662),\n",
              " ('amazon', 0.5288895964622498),\n",
              " ('uber', 0.4847671091556549),\n",
              " ('fbi', 0.47606897354125977),\n",
              " ('microsoft', 0.46922826766967773),\n",
              " ('software', 0.4626830220222473),\n",
              " ('buffett', 0.45257943868637085),\n",
              " ('web', 0.4437047243118286),\n",
              " ('airbnb', 0.43909770250320435)]"
            ]
          },
          "metadata": {},
          "execution_count": 24
        }
      ]
    },
    {
      "cell_type": "code",
      "metadata": {
        "colab": {
          "base_uri": "https://localhost:8080/"
        },
        "id": "W8UPFOY2yJas",
        "outputId": "abf615fd-77da-4d61-86c1-903433af9296"
      },
      "source": [
        "w2v_modelo.wv.most_similar('microsoft')\n"
      ],
      "execution_count": 25,
      "outputs": [
        {
          "output_type": "execute_result",
          "data": {
            "text/plain": [
              "[('amazon', 0.5788946151733398),\n",
              " ('tesla', 0.5579546689987183),\n",
              " ('unilever', 0.5511664152145386),\n",
              " ('sky', 0.5419296026229858),\n",
              " ('canais', 0.5370704531669617),\n",
              " ('walmart', 0.532991886138916),\n",
              " ('braskem', 0.5262215733528137),\n",
              " ('buffett', 0.5125475525856018),\n",
              " ('lego', 0.5106209516525269),\n",
              " ('moma', 0.5012629628181458)]"
            ]
          },
          "metadata": {},
          "execution_count": 25
        }
      ]
    },
    {
      "cell_type": "code",
      "metadata": {
        "colab": {
          "base_uri": "https://localhost:8080/"
        },
        "id": "DW2rSexKybGt",
        "outputId": "d2fdd3c3-e705-4477-e6ba-9b52c26fefc4"
      },
      "source": [
        "w2v_modelo.wv.most_similar('barcelona')"
      ],
      "execution_count": 26,
      "outputs": [
        {
          "output_type": "execute_result",
          "data": {
            "text/plain": [
              "[('barça', 0.6046160459518433),\n",
              " ('psg', 0.586617112159729),\n",
              " ('juventus', 0.5831589698791504),\n",
              " ('bayern', 0.565725564956665),\n",
              " ('chelsea', 0.5590819716453552),\n",
              " ('leicester', 0.5572782158851624),\n",
              " ('huracán', 0.5548516511917114),\n",
              " ('figueirense', 0.5423638820648193),\n",
              " ('madrid', 0.5423338413238525),\n",
              " ('united', 0.5421385765075684)]"
            ]
          },
          "metadata": {},
          "execution_count": 26
        }
      ]
    },
    {
      "cell_type": "code",
      "metadata": {
        "colab": {
          "base_uri": "https://localhost:8080/"
        },
        "id": "KA7cEeNWyuNB",
        "outputId": "653a58ca-c37c-4fda-da85-5504a8619b0b"
      },
      "source": [
        "w2v_modelo.wv.most_similar('messi')\n"
      ],
      "execution_count": 27,
      "outputs": [
        {
          "output_type": "execute_result",
          "data": {
            "text/plain": [
              "[('suárez', 0.6114212870597839),\n",
              " ('cristiano', 0.5415195822715759),\n",
              " ('neymar', 0.5369210243225098),\n",
              " ('ronaldo', 0.5293501615524292),\n",
              " ('chuteiras', 0.5088515281677246),\n",
              " ('mourinho', 0.5068795680999756),\n",
              " ('enrique', 0.5047275424003601),\n",
              " ('tevez', 0.5046080946922302),\n",
              " ('barcelona', 0.503334641456604),\n",
              " ('benzema', 0.5018718838691711)]"
            ]
          },
          "metadata": {},
          "execution_count": 27
        }
      ]
    },
    {
      "cell_type": "code",
      "metadata": {
        "colab": {
          "base_uri": "https://localhost:8080/"
        },
        "id": "5pING-Gry1XW",
        "outputId": "b80209bb-98b6-4326-950b-eef9e8e3472a"
      },
      "source": [
        "w2v_modelo.wv.most_similar('gm')\n"
      ],
      "execution_count": 28,
      "outputs": [
        {
          "output_type": "execute_result",
          "data": {
            "text/plain": [
              "[('chrysler', 0.702546238899231),\n",
              " ('honda', 0.652497410774231),\n",
              " ('embraer', 0.6405245065689087),\n",
              " ('braskem', 0.6239509582519531),\n",
              " ('inbev', 0.6194819211959839),\n",
              " ('toyota', 0.6192929744720459),\n",
              " ('volks', 0.6148355007171631),\n",
              " ('tesla', 0.6023591756820679),\n",
              " ('sony', 0.5964915752410889),\n",
              " ('dow', 0.5889828205108643)]"
            ]
          },
          "metadata": {},
          "execution_count": 28
        }
      ]
    },
    {
      "cell_type": "code",
      "metadata": {
        "colab": {
          "base_uri": "https://localhost:8080/"
        },
        "id": "2AZ4Hw2TzJb2",
        "outputId": "fd96e37d-eda8-41f7-d66a-3b6dd38ca742"
      },
      "source": [
        "# treinamento do modelo skip-gram\n",
        "\n",
        "w2v_modelo_sg = Word2Vec(sg = 1,\n",
        "                      window = 5,\n",
        "                      size = 300,\n",
        "                      min_count = 5,\n",
        "                      alpha = 0.03,\n",
        "                      min_alpha = 0.007)\n",
        "\n",
        "w2v_modelo_sg.build_vocab(lista_lista_tokens, progress_per=5000)\n",
        "\n",
        "w2v_modelo_sg.train(lista_lista_tokens,\n",
        "                 total_examples = w2v_modelo_sg.corpus_count,\n",
        "                 epochs = 30)"
      ],
      "execution_count": 29,
      "outputs": [
        {
          "output_type": "stream",
          "text": [
            "2021-08-19 14:32:09,415 : - collecting all words and their counts\n",
            "2021-08-19 14:32:09,417 : - PROGRESS: at sentence #0, processed 0 words, keeping 0 word types\n",
            "2021-08-19 14:32:09,437 : - PROGRESS: at sentence #5000, processed 34716 words, keeping 10129 word types\n",
            "2021-08-19 14:32:09,457 : - PROGRESS: at sentence #10000, processed 69298 words, keeping 14909 word types\n",
            "2021-08-19 14:32:09,476 : - PROGRESS: at sentence #15000, processed 103841 words, keeping 18223 word types\n",
            "2021-08-19 14:32:09,495 : - PROGRESS: at sentence #20000, processed 138620 words, keeping 20969 word types\n",
            "2021-08-19 14:32:09,515 : - PROGRESS: at sentence #25000, processed 173257 words, keeping 23410 word types\n",
            "2021-08-19 14:32:09,530 : - PROGRESS: at sentence #30000, processed 207976 words, keeping 25453 word types\n",
            "2021-08-19 14:32:09,547 : - PROGRESS: at sentence #35000, processed 242567 words, keeping 27263 word types\n",
            "2021-08-19 14:32:09,562 : - PROGRESS: at sentence #40000, processed 277254 words, keeping 28992 word types\n",
            "2021-08-19 14:32:09,577 : - PROGRESS: at sentence #45000, processed 311910 words, keeping 30561 word types\n",
            "2021-08-19 14:32:09,604 : - PROGRESS: at sentence #50000, processed 346641 words, keeping 31924 word types\n",
            "2021-08-19 14:32:09,619 : - PROGRESS: at sentence #55000, processed 381564 words, keeping 33224 word types\n",
            "2021-08-19 14:32:09,636 : - PROGRESS: at sentence #60000, processed 416318 words, keeping 34458 word types\n",
            "2021-08-19 14:32:09,652 : - PROGRESS: at sentence #65000, processed 451172 words, keeping 35585 word types\n",
            "2021-08-19 14:32:09,673 : - PROGRESS: at sentence #70000, processed 485882 words, keeping 36651 word types\n",
            "2021-08-19 14:32:09,689 : - PROGRESS: at sentence #75000, processed 520667 words, keeping 37767 word types\n",
            "2021-08-19 14:32:09,705 : - PROGRESS: at sentence #80000, processed 555521 words, keeping 38741 word types\n",
            "2021-08-19 14:32:09,720 : - PROGRESS: at sentence #85000, processed 590198 words, keeping 39739 word types\n",
            "2021-08-19 14:32:09,726 : - collected 39968 word types from a corpus of 597929 raw words and 86113 sentences\n",
            "2021-08-19 14:32:09,728 : - Loading a fresh vocabulary\n",
            "2021-08-19 14:32:09,772 : - effective_min_count=5 retains 13006 unique words (32% of original 39968, drops 26962)\n",
            "2021-08-19 14:32:09,773 : - effective_min_count=5 leaves 552614 word corpus (92% of original 597929, drops 45315)\n",
            "2021-08-19 14:32:09,823 : - deleting the raw counts dictionary of 39968 items\n",
            "2021-08-19 14:32:09,826 : - sample=0.001 downsamples 11 most-common words\n",
            "2021-08-19 14:32:09,827 : - downsampling leaves estimated 502900 word corpus (91.0% of prior 552614)\n",
            "2021-08-19 14:32:09,888 : - estimated required memory for 13006 words and 300 dimensions: 37717400 bytes\n",
            "2021-08-19 14:32:09,889 : - resetting layer weights\n",
            "2021-08-19 14:32:12,661 : - training model with 3 workers on 13006 vocabulary and 300 features, using sg=1 hs=0 sample=0.001 negative=5 window=5\n",
            "2021-08-19 14:32:13,738 : - EPOCH 1 - PROGRESS: at 25.13% examples, 118532 words/s, in_qsize 5, out_qsize 0\n",
            "2021-08-19 14:32:14,757 : - EPOCH 1 - PROGRESS: at 53.59% examples, 129077 words/s, in_qsize 6, out_qsize 0\n",
            "2021-08-19 14:32:15,843 : - EPOCH 1 - PROGRESS: at 80.29% examples, 127289 words/s, in_qsize 4, out_qsize 1\n",
            "2021-08-19 14:32:16,401 : - worker thread finished; awaiting finish of 2 more threads\n",
            "2021-08-19 14:32:16,442 : - worker thread finished; awaiting finish of 1 more threads\n",
            "2021-08-19 14:32:16,460 : - worker thread finished; awaiting finish of 0 more threads\n",
            "2021-08-19 14:32:16,462 : - EPOCH - 1 : training on 597929 raw words (502886 effective words) took 3.8s, 132738 effective words/s\n",
            "2021-08-19 14:32:17,513 : - EPOCH 2 - PROGRESS: at 23.44% examples, 113437 words/s, in_qsize 5, out_qsize 0\n",
            "2021-08-19 14:32:18,572 : - EPOCH 2 - PROGRESS: at 51.92% examples, 124185 words/s, in_qsize 5, out_qsize 0\n",
            "2021-08-19 14:32:19,597 : - EPOCH 2 - PROGRESS: at 78.61% examples, 126484 words/s, in_qsize 5, out_qsize 0\n",
            "2021-08-19 14:32:20,206 : - worker thread finished; awaiting finish of 2 more threads\n",
            "2021-08-19 14:32:20,293 : - worker thread finished; awaiting finish of 1 more threads\n",
            "2021-08-19 14:32:20,304 : - worker thread finished; awaiting finish of 0 more threads\n",
            "2021-08-19 14:32:20,305 : - EPOCH - 2 : training on 597929 raw words (502855 effective words) took 3.8s, 131237 effective words/s\n",
            "2021-08-19 14:32:21,384 : - EPOCH 3 - PROGRESS: at 25.13% examples, 120643 words/s, in_qsize 5, out_qsize 0\n",
            "2021-08-19 14:32:22,402 : - EPOCH 3 - PROGRESS: at 53.59% examples, 129311 words/s, in_qsize 5, out_qsize 0\n",
            "2021-08-19 14:32:23,479 : - EPOCH 3 - PROGRESS: at 81.95% examples, 130529 words/s, in_qsize 5, out_qsize 0\n",
            "2021-08-19 14:32:24,066 : - worker thread finished; awaiting finish of 2 more threads\n",
            "2021-08-19 14:32:24,088 : - worker thread finished; awaiting finish of 1 more threads\n",
            "2021-08-19 14:32:24,106 : - worker thread finished; awaiting finish of 0 more threads\n",
            "2021-08-19 14:32:24,107 : - EPOCH - 3 : training on 597929 raw words (502997 effective words) took 3.8s, 132880 effective words/s\n",
            "2021-08-19 14:32:25,131 : - EPOCH 4 - PROGRESS: at 25.12% examples, 125343 words/s, in_qsize 5, out_qsize 0\n",
            "2021-08-19 14:32:26,144 : - EPOCH 4 - PROGRESS: at 51.92% examples, 129022 words/s, in_qsize 5, out_qsize 0\n",
            "2021-08-19 14:32:27,188 : - EPOCH 4 - PROGRESS: at 78.61% examples, 129013 words/s, in_qsize 5, out_qsize 0\n",
            "2021-08-19 14:32:27,844 : - worker thread finished; awaiting finish of 2 more threads\n",
            "2021-08-19 14:32:27,856 : - worker thread finished; awaiting finish of 1 more threads\n",
            "2021-08-19 14:32:27,892 : - worker thread finished; awaiting finish of 0 more threads\n",
            "2021-08-19 14:32:27,894 : - EPOCH - 4 : training on 597929 raw words (502924 effective words) took 3.8s, 133432 effective words/s\n",
            "2021-08-19 14:32:29,016 : - EPOCH 5 - PROGRESS: at 26.80% examples, 121625 words/s, in_qsize 5, out_qsize 0\n",
            "2021-08-19 14:32:30,048 : - EPOCH 5 - PROGRESS: at 55.26% examples, 129801 words/s, in_qsize 5, out_qsize 0\n",
            "2021-08-19 14:32:31,066 : - EPOCH 5 - PROGRESS: at 81.95% examples, 130583 words/s, in_qsize 5, out_qsize 0\n",
            "2021-08-19 14:32:31,568 : - worker thread finished; awaiting finish of 2 more threads\n",
            "2021-08-19 14:32:31,659 : - worker thread finished; awaiting finish of 1 more threads\n",
            "2021-08-19 14:32:31,682 : - worker thread finished; awaiting finish of 0 more threads\n",
            "2021-08-19 14:32:31,683 : - EPOCH - 5 : training on 597929 raw words (503181 effective words) took 3.8s, 133353 effective words/s\n",
            "2021-08-19 14:32:32,710 : - EPOCH 6 - PROGRESS: at 25.13% examples, 124393 words/s, in_qsize 5, out_qsize 0\n",
            "2021-08-19 14:32:33,746 : - EPOCH 6 - PROGRESS: at 51.92% examples, 127090 words/s, in_qsize 4, out_qsize 1\n",
            "2021-08-19 14:32:34,798 : - EPOCH 6 - PROGRESS: at 80.28% examples, 130021 words/s, in_qsize 5, out_qsize 0\n",
            "2021-08-19 14:32:35,417 : - worker thread finished; awaiting finish of 2 more threads\n",
            "2021-08-19 14:32:35,442 : - worker thread finished; awaiting finish of 1 more threads\n",
            "2021-08-19 14:32:35,478 : - worker thread finished; awaiting finish of 0 more threads\n",
            "2021-08-19 14:32:35,479 : - EPOCH - 6 : training on 597929 raw words (502950 effective words) took 3.8s, 132888 effective words/s\n",
            "2021-08-19 14:32:36,570 : - EPOCH 7 - PROGRESS: at 26.80% examples, 128771 words/s, in_qsize 5, out_qsize 0\n",
            "2021-08-19 14:32:37,668 : - EPOCH 7 - PROGRESS: at 55.26% examples, 129452 words/s, in_qsize 5, out_qsize 0\n",
            "2021-08-19 14:32:38,669 : - EPOCH 7 - PROGRESS: at 83.62% examples, 133705 words/s, in_qsize 5, out_qsize 0\n",
            "2021-08-19 14:32:39,161 : - worker thread finished; awaiting finish of 2 more threads\n",
            "2021-08-19 14:32:39,254 : - worker thread finished; awaiting finish of 1 more threads\n",
            "2021-08-19 14:32:39,270 : - worker thread finished; awaiting finish of 0 more threads\n",
            "2021-08-19 14:32:39,271 : - EPOCH - 7 : training on 597929 raw words (502876 effective words) took 3.7s, 134254 effective words/s\n",
            "2021-08-19 14:32:40,346 : - EPOCH 8 - PROGRESS: at 25.12% examples, 119306 words/s, in_qsize 4, out_qsize 1\n",
            "2021-08-19 14:32:41,472 : - EPOCH 8 - PROGRESS: at 55.28% examples, 127058 words/s, in_qsize 5, out_qsize 0\n",
            "2021-08-19 14:32:42,492 : - EPOCH 8 - PROGRESS: at 81.95% examples, 128598 words/s, in_qsize 4, out_qsize 1\n",
            "2021-08-19 14:32:42,973 : - worker thread finished; awaiting finish of 2 more threads\n",
            "2021-08-19 14:32:43,001 : - worker thread finished; awaiting finish of 1 more threads\n",
            "2021-08-19 14:32:43,033 : - worker thread finished; awaiting finish of 0 more threads\n",
            "2021-08-19 14:32:43,034 : - EPOCH - 8 : training on 597929 raw words (502921 effective words) took 3.7s, 134248 effective words/s\n",
            "2021-08-19 14:32:44,067 : - EPOCH 9 - PROGRESS: at 25.12% examples, 123854 words/s, in_qsize 5, out_qsize 0\n",
            "2021-08-19 14:32:45,174 : - EPOCH 9 - PROGRESS: at 53.59% examples, 126568 words/s, in_qsize 5, out_qsize 0\n",
            "2021-08-19 14:32:46,175 : - EPOCH 9 - PROGRESS: at 80.28% examples, 129075 words/s, in_qsize 5, out_qsize 0\n",
            "2021-08-19 14:32:46,802 : - worker thread finished; awaiting finish of 2 more threads\n",
            "2021-08-19 14:32:46,809 : - worker thread finished; awaiting finish of 1 more threads\n",
            "2021-08-19 14:32:46,832 : - worker thread finished; awaiting finish of 0 more threads\n",
            "2021-08-19 14:32:46,833 : - EPOCH - 9 : training on 597929 raw words (503083 effective words) took 3.8s, 132897 effective words/s\n",
            "2021-08-19 14:32:47,939 : - EPOCH 10 - PROGRESS: at 26.80% examples, 123109 words/s, in_qsize 5, out_qsize 0\n",
            "2021-08-19 14:32:48,956 : - EPOCH 10 - PROGRESS: at 55.26% examples, 131394 words/s, in_qsize 5, out_qsize 0\n",
            "2021-08-19 14:32:50,024 : - EPOCH 10 - PROGRESS: at 81.95% examples, 129552 words/s, in_qsize 5, out_qsize 0\n",
            "2021-08-19 14:32:50,539 : - worker thread finished; awaiting finish of 2 more threads\n",
            "2021-08-19 14:32:50,612 : - worker thread finished; awaiting finish of 1 more threads\n",
            "2021-08-19 14:32:50,630 : - worker thread finished; awaiting finish of 0 more threads\n",
            "2021-08-19 14:32:50,632 : - EPOCH - 10 : training on 597929 raw words (502841 effective words) took 3.8s, 132770 effective words/s\n",
            "2021-08-19 14:32:51,650 : - EPOCH 11 - PROGRESS: at 25.13% examples, 125714 words/s, in_qsize 5, out_qsize 0\n",
            "2021-08-19 14:32:52,757 : - EPOCH 11 - PROGRESS: at 53.59% examples, 127441 words/s, in_qsize 5, out_qsize 0\n",
            "2021-08-19 14:32:53,793 : - EPOCH 11 - PROGRESS: at 81.95% examples, 130906 words/s, in_qsize 5, out_qsize 0\n",
            "2021-08-19 14:32:54,337 : - worker thread finished; awaiting finish of 2 more threads\n",
            "2021-08-19 14:32:54,389 : - worker thread finished; awaiting finish of 1 more threads\n",
            "2021-08-19 14:32:54,414 : - worker thread finished; awaiting finish of 0 more threads\n",
            "2021-08-19 14:32:54,415 : - EPOCH - 11 : training on 597929 raw words (502966 effective words) took 3.8s, 133402 effective words/s\n",
            "2021-08-19 14:32:55,544 : - EPOCH 12 - PROGRESS: at 26.80% examples, 120612 words/s, in_qsize 5, out_qsize 0\n",
            "2021-08-19 14:32:56,592 : - EPOCH 12 - PROGRESS: at 55.26% examples, 128301 words/s, in_qsize 5, out_qsize 0\n",
            "2021-08-19 14:32:57,635 : - EPOCH 12 - PROGRESS: at 83.63% examples, 131118 words/s, in_qsize 5, out_qsize 0\n",
            "2021-08-19 14:32:58,121 : - worker thread finished; awaiting finish of 2 more threads\n",
            "2021-08-19 14:32:58,159 : - worker thread finished; awaiting finish of 1 more threads\n",
            "2021-08-19 14:32:58,163 : - worker thread finished; awaiting finish of 0 more threads\n",
            "2021-08-19 14:32:58,166 : - EPOCH - 12 : training on 597929 raw words (502986 effective words) took 3.7s, 134559 effective words/s\n",
            "2021-08-19 14:32:59,253 : - EPOCH 13 - PROGRESS: at 26.80% examples, 126550 words/s, in_qsize 5, out_qsize 0\n",
            "2021-08-19 14:33:00,290 : - EPOCH 13 - PROGRESS: at 53.59% examples, 128036 words/s, in_qsize 4, out_qsize 1\n",
            "2021-08-19 14:33:01,383 : - EPOCH 13 - PROGRESS: at 83.63% examples, 131610 words/s, in_qsize 5, out_qsize 0\n",
            "2021-08-19 14:33:01,849 : - worker thread finished; awaiting finish of 2 more threads\n",
            "2021-08-19 14:33:01,883 : - worker thread finished; awaiting finish of 1 more threads\n",
            "2021-08-19 14:33:01,912 : - worker thread finished; awaiting finish of 0 more threads\n",
            "2021-08-19 14:33:01,914 : - EPOCH - 13 : training on 597929 raw words (502965 effective words) took 3.7s, 135023 effective words/s\n",
            "2021-08-19 14:33:02,932 : - EPOCH 14 - PROGRESS: at 25.13% examples, 125663 words/s, in_qsize 5, out_qsize 0\n",
            "2021-08-19 14:33:03,960 : - EPOCH 14 - PROGRESS: at 51.92% examples, 128167 words/s, in_qsize 6, out_qsize 0\n",
            "2021-08-19 14:33:05,017 : - EPOCH 14 - PROGRESS: at 80.28% examples, 130582 words/s, in_qsize 5, out_qsize 0\n",
            "2021-08-19 14:33:05,594 : - worker thread finished; awaiting finish of 2 more threads\n",
            "2021-08-19 14:33:05,604 : - worker thread finished; awaiting finish of 1 more threads\n",
            "2021-08-19 14:33:05,664 : - worker thread finished; awaiting finish of 0 more threads\n",
            "2021-08-19 14:33:05,666 : - EPOCH - 14 : training on 597929 raw words (502836 effective words) took 3.7s, 134504 effective words/s\n",
            "2021-08-19 14:33:06,719 : - EPOCH 15 - PROGRESS: at 25.13% examples, 122919 words/s, in_qsize 5, out_qsize 0\n",
            "2021-08-19 14:33:07,720 : - EPOCH 15 - PROGRESS: at 53.59% examples, 132619 words/s, in_qsize 5, out_qsize 0\n",
            "2021-08-19 14:33:08,723 : - EPOCH 15 - PROGRESS: at 80.28% examples, 133087 words/s, in_qsize 5, out_qsize 0\n",
            "2021-08-19 14:33:09,329 : - worker thread finished; awaiting finish of 2 more threads\n",
            "2021-08-19 14:33:09,366 : - worker thread finished; awaiting finish of 1 more threads\n",
            "2021-08-19 14:33:09,397 : - worker thread finished; awaiting finish of 0 more threads\n",
            "2021-08-19 14:33:09,398 : - EPOCH - 15 : training on 597929 raw words (502874 effective words) took 3.7s, 135634 effective words/s\n",
            "2021-08-19 14:33:10,482 : - EPOCH 16 - PROGRESS: at 26.80% examples, 126045 words/s, in_qsize 5, out_qsize 0\n",
            "2021-08-19 14:33:11,562 : - EPOCH 16 - PROGRESS: at 56.93% examples, 132913 words/s, in_qsize 5, out_qsize 0\n",
            "2021-08-19 14:33:12,575 : - EPOCH 16 - PROGRESS: at 83.62% examples, 132908 words/s, in_qsize 5, out_qsize 0\n",
            "2021-08-19 14:33:13,023 : - worker thread finished; awaiting finish of 2 more threads\n",
            "2021-08-19 14:33:13,067 : - worker thread finished; awaiting finish of 1 more threads\n",
            "2021-08-19 14:33:13,112 : - worker thread finished; awaiting finish of 0 more threads\n",
            "2021-08-19 14:33:13,114 : - EPOCH - 16 : training on 597929 raw words (502845 effective words) took 3.7s, 135869 effective words/s\n",
            "2021-08-19 14:33:14,161 : - EPOCH 17 - PROGRESS: at 26.80% examples, 130198 words/s, in_qsize 5, out_qsize 0\n",
            "2021-08-19 14:33:15,182 : - EPOCH 17 - PROGRESS: at 53.59% examples, 130905 words/s, in_qsize 4, out_qsize 1\n",
            "2021-08-19 14:33:16,250 : - EPOCH 17 - PROGRESS: at 83.62% examples, 134573 words/s, in_qsize 5, out_qsize 0\n",
            "2021-08-19 14:33:16,745 : - worker thread finished; awaiting finish of 2 more threads\n",
            "2021-08-19 14:33:16,772 : - worker thread finished; awaiting finish of 1 more threads\n",
            "2021-08-19 14:33:16,809 : - worker thread finished; awaiting finish of 0 more threads\n",
            "2021-08-19 14:33:16,810 : - EPOCH - 17 : training on 597929 raw words (502850 effective words) took 3.7s, 136504 effective words/s\n",
            "2021-08-19 14:33:17,915 : - EPOCH 18 - PROGRESS: at 26.80% examples, 123420 words/s, in_qsize 5, out_qsize 0\n",
            "2021-08-19 14:33:18,960 : - EPOCH 18 - PROGRESS: at 55.26% examples, 129903 words/s, in_qsize 6, out_qsize 0\n",
            "2021-08-19 14:33:20,011 : - EPOCH 18 - PROGRESS: at 83.62% examples, 131879 words/s, in_qsize 5, out_qsize 0\n",
            "2021-08-19 14:33:20,422 : - worker thread finished; awaiting finish of 2 more threads\n",
            "2021-08-19 14:33:20,500 : - worker thread finished; awaiting finish of 1 more threads\n",
            "2021-08-19 14:33:20,511 : - worker thread finished; awaiting finish of 0 more threads\n",
            "2021-08-19 14:33:20,513 : - EPOCH - 18 : training on 597929 raw words (502887 effective words) took 3.7s, 136336 effective words/s\n",
            "2021-08-19 14:33:21,608 : - EPOCH 19 - PROGRESS: at 26.80% examples, 126574 words/s, in_qsize 5, out_qsize 0\n",
            "2021-08-19 14:33:22,628 : - EPOCH 19 - PROGRESS: at 55.26% examples, 133183 words/s, in_qsize 5, out_qsize 0\n",
            "2021-08-19 14:33:23,696 : - EPOCH 19 - PROGRESS: at 83.63% examples, 133403 words/s, in_qsize 5, out_qsize 0\n",
            "2021-08-19 14:33:24,114 : - worker thread finished; awaiting finish of 2 more threads\n",
            "2021-08-19 14:33:24,201 : - worker thread finished; awaiting finish of 1 more threads\n",
            "2021-08-19 14:33:24,215 : - worker thread finished; awaiting finish of 0 more threads\n",
            "2021-08-19 14:33:24,216 : - EPOCH - 19 : training on 597929 raw words (502853 effective words) took 3.7s, 136957 effective words/s\n",
            "2021-08-19 14:33:25,293 : - EPOCH 20 - PROGRESS: at 25.13% examples, 120034 words/s, in_qsize 5, out_qsize 0\n",
            "2021-08-19 14:33:26,359 : - EPOCH 20 - PROGRESS: at 53.59% examples, 127023 words/s, in_qsize 5, out_qsize 0\n",
            "2021-08-19 14:33:27,385 : - EPOCH 20 - PROGRESS: at 81.95% examples, 131030 words/s, in_qsize 5, out_qsize 0\n",
            "2021-08-19 14:33:27,864 : - worker thread finished; awaiting finish of 2 more threads\n",
            "2021-08-19 14:33:27,938 : - worker thread finished; awaiting finish of 1 more threads\n",
            "2021-08-19 14:33:27,954 : - worker thread finished; awaiting finish of 0 more threads\n",
            "2021-08-19 14:33:27,956 : - EPOCH - 20 : training on 597929 raw words (502707 effective words) took 3.7s, 135351 effective words/s\n",
            "2021-08-19 14:33:29,018 : - EPOCH 21 - PROGRESS: at 25.12% examples, 120735 words/s, in_qsize 4, out_qsize 1\n",
            "2021-08-19 14:33:30,060 : - EPOCH 21 - PROGRESS: at 53.59% examples, 128946 words/s, in_qsize 5, out_qsize 0\n",
            "2021-08-19 14:33:31,116 : - EPOCH 21 - PROGRESS: at 83.62% examples, 133755 words/s, in_qsize 5, out_qsize 0\n",
            "2021-08-19 14:33:31,580 : - worker thread finished; awaiting finish of 2 more threads\n",
            "2021-08-19 14:33:31,665 : - worker thread finished; awaiting finish of 1 more threads\n",
            "2021-08-19 14:33:31,681 : - worker thread finished; awaiting finish of 0 more threads\n",
            "2021-08-19 14:33:31,683 : - EPOCH - 21 : training on 597929 raw words (502920 effective words) took 3.7s, 135567 effective words/s\n",
            "2021-08-19 14:33:32,758 : - EPOCH 22 - PROGRESS: at 26.80% examples, 126834 words/s, in_qsize 5, out_qsize 0\n",
            "2021-08-19 14:33:33,791 : - EPOCH 22 - PROGRESS: at 55.26% examples, 132462 words/s, in_qsize 5, out_qsize 0\n",
            "2021-08-19 14:33:34,855 : - EPOCH 22 - PROGRESS: at 83.63% examples, 133082 words/s, in_qsize 4, out_qsize 1\n",
            "2021-08-19 14:33:35,251 : - worker thread finished; awaiting finish of 2 more threads\n",
            "2021-08-19 14:33:35,344 : - worker thread finished; awaiting finish of 1 more threads\n",
            "2021-08-19 14:33:35,353 : - worker thread finished; awaiting finish of 0 more threads\n",
            "2021-08-19 14:33:35,356 : - EPOCH - 22 : training on 597929 raw words (502983 effective words) took 3.7s, 137426 effective words/s\n",
            "2021-08-19 14:33:36,393 : - EPOCH 23 - PROGRESS: at 25.13% examples, 123452 words/s, in_qsize 5, out_qsize 0\n",
            "2021-08-19 14:33:37,420 : - EPOCH 23 - PROGRESS: at 53.59% examples, 131225 words/s, in_qsize 5, out_qsize 0\n",
            "2021-08-19 14:33:38,463 : - EPOCH 23 - PROGRESS: at 81.95% examples, 133239 words/s, in_qsize 4, out_qsize 1\n",
            "2021-08-19 14:33:38,956 : - worker thread finished; awaiting finish of 2 more threads\n",
            "2021-08-19 14:33:39,008 : - worker thread finished; awaiting finish of 1 more threads\n",
            "2021-08-19 14:33:39,017 : - worker thread finished; awaiting finish of 0 more threads\n",
            "2021-08-19 14:33:39,019 : - EPOCH - 23 : training on 597929 raw words (503097 effective words) took 3.7s, 137830 effective words/s\n",
            "2021-08-19 14:33:40,072 : - EPOCH 24 - PROGRESS: at 26.80% examples, 129560 words/s, in_qsize 5, out_qsize 0\n",
            "2021-08-19 14:33:41,083 : - EPOCH 24 - PROGRESS: at 53.59% examples, 131240 words/s, in_qsize 5, out_qsize 0\n",
            "2021-08-19 14:33:42,084 : - EPOCH 24 - PROGRESS: at 81.95% examples, 135029 words/s, in_qsize 5, out_qsize 0\n",
            "2021-08-19 14:33:42,605 : - worker thread finished; awaiting finish of 2 more threads\n",
            "2021-08-19 14:33:42,669 : - worker thread finished; awaiting finish of 1 more threads\n",
            "2021-08-19 14:33:42,672 : - worker thread finished; awaiting finish of 0 more threads\n",
            "2021-08-19 14:33:42,675 : - EPOCH - 24 : training on 597929 raw words (502788 effective words) took 3.6s, 138057 effective words/s\n",
            "2021-08-19 14:33:43,700 : - EPOCH 25 - PROGRESS: at 25.13% examples, 124549 words/s, in_qsize 5, out_qsize 0\n",
            "2021-08-19 14:33:44,775 : - EPOCH 25 - PROGRESS: at 55.26% examples, 132765 words/s, in_qsize 5, out_qsize 0\n",
            "2021-08-19 14:33:45,840 : - EPOCH 25 - PROGRESS: at 83.63% examples, 133226 words/s, in_qsize 5, out_qsize 0\n",
            "2021-08-19 14:33:46,286 : - worker thread finished; awaiting finish of 2 more threads\n",
            "2021-08-19 14:33:46,337 : - worker thread finished; awaiting finish of 1 more threads\n",
            "2021-08-19 14:33:46,361 : - worker thread finished; awaiting finish of 0 more threads\n",
            "2021-08-19 14:33:46,362 : - EPOCH - 25 : training on 597929 raw words (502721 effective words) took 3.7s, 136713 effective words/s\n",
            "2021-08-19 14:33:47,398 : - EPOCH 26 - PROGRESS: at 25.13% examples, 123517 words/s, in_qsize 5, out_qsize 0\n",
            "2021-08-19 14:33:48,476 : - EPOCH 26 - PROGRESS: at 55.26% examples, 132080 words/s, in_qsize 5, out_qsize 0\n",
            "2021-08-19 14:33:49,624 : - EPOCH 26 - PROGRESS: at 85.28% examples, 131961 words/s, in_qsize 3, out_qsize 2\n",
            "2021-08-19 14:33:49,993 : - worker thread finished; awaiting finish of 2 more threads\n",
            "2021-08-19 14:33:50,021 : - worker thread finished; awaiting finish of 1 more threads\n",
            "2021-08-19 14:33:50,040 : - worker thread finished; awaiting finish of 0 more threads\n",
            "2021-08-19 14:33:50,041 : - EPOCH - 26 : training on 597929 raw words (502879 effective words) took 3.7s, 137161 effective words/s\n",
            "2021-08-19 14:33:51,123 : - EPOCH 27 - PROGRESS: at 26.80% examples, 126485 words/s, in_qsize 5, out_qsize 0\n",
            "2021-08-19 14:33:52,235 : - EPOCH 27 - PROGRESS: at 56.93% examples, 131333 words/s, in_qsize 5, out_qsize 0\n",
            "2021-08-19 14:33:53,285 : - EPOCH 27 - PROGRESS: at 86.96% examples, 135453 words/s, in_qsize 5, out_qsize 0\n",
            "2021-08-19 14:33:53,574 : - worker thread finished; awaiting finish of 2 more threads\n",
            "2021-08-19 14:33:53,657 : - worker thread finished; awaiting finish of 1 more threads\n",
            "2021-08-19 14:33:53,668 : - worker thread finished; awaiting finish of 0 more threads\n",
            "2021-08-19 14:33:53,670 : - EPOCH - 27 : training on 597929 raw words (502872 effective words) took 3.6s, 139240 effective words/s\n",
            "2021-08-19 14:33:54,759 : - EPOCH 28 - PROGRESS: at 26.80% examples, 125689 words/s, in_qsize 5, out_qsize 0\n",
            "2021-08-19 14:33:55,845 : - EPOCH 28 - PROGRESS: at 56.93% examples, 132590 words/s, in_qsize 5, out_qsize 0\n",
            "2021-08-19 14:33:56,892 : - EPOCH 28 - PROGRESS: at 85.30% examples, 133826 words/s, in_qsize 5, out_qsize 0\n",
            "2021-08-19 14:33:57,256 : - worker thread finished; awaiting finish of 2 more threads\n",
            "2021-08-19 14:33:57,305 : - worker thread finished; awaiting finish of 1 more threads\n",
            "2021-08-19 14:33:57,334 : - worker thread finished; awaiting finish of 0 more threads\n",
            "2021-08-19 14:33:57,335 : - EPOCH - 28 : training on 597929 raw words (503078 effective words) took 3.6s, 137898 effective words/s\n",
            "2021-08-19 14:33:58,360 : - EPOCH 29 - PROGRESS: at 26.80% examples, 133345 words/s, in_qsize 5, out_qsize 0\n",
            "2021-08-19 14:33:59,384 : - EPOCH 29 - PROGRESS: at 55.26% examples, 136431 words/s, in_qsize 5, out_qsize 0\n",
            "2021-08-19 14:34:00,402 : - EPOCH 29 - PROGRESS: at 83.62% examples, 137815 words/s, in_qsize 5, out_qsize 0\n",
            "2021-08-19 14:34:00,919 : - worker thread finished; awaiting finish of 2 more threads\n",
            "2021-08-19 14:34:00,941 : - worker thread finished; awaiting finish of 1 more threads\n",
            "2021-08-19 14:34:00,995 : - worker thread finished; awaiting finish of 0 more threads\n",
            "2021-08-19 14:34:00,996 : - EPOCH - 29 : training on 597929 raw words (503003 effective words) took 3.6s, 137953 effective words/s\n",
            "2021-08-19 14:34:02,161 : - EPOCH 30 - PROGRESS: at 28.48% examples, 124231 words/s, in_qsize 6, out_qsize 0\n",
            "2021-08-19 14:34:03,239 : - EPOCH 30 - PROGRESS: at 58.61% examples, 132029 words/s, in_qsize 5, out_qsize 0\n",
            "2021-08-19 14:34:04,256 : - EPOCH 30 - PROGRESS: at 86.96% examples, 134630 words/s, in_qsize 5, out_qsize 0\n",
            "2021-08-19 14:34:04,607 : - worker thread finished; awaiting finish of 2 more threads\n",
            "2021-08-19 14:34:04,621 : - worker thread finished; awaiting finish of 1 more threads\n",
            "2021-08-19 14:34:04,675 : - worker thread finished; awaiting finish of 0 more threads\n",
            "2021-08-19 14:34:04,676 : - EPOCH - 30 : training on 597929 raw words (502892 effective words) took 3.7s, 137171 effective words/s\n",
            "2021-08-19 14:34:04,678 : - training on a 17937870 raw words (15087516 effective words) took 112.0s, 134692 effective words/s\n"
          ],
          "name": "stderr"
        },
        {
          "output_type": "execute_result",
          "data": {
            "text/plain": [
              "(15087516, 17937870)"
            ]
          },
          "metadata": {},
          "execution_count": 29
        }
      ]
    },
    {
      "cell_type": "code",
      "metadata": {
        "colab": {
          "base_uri": "https://localhost:8080/"
        },
        "id": "qB_L5qsH2uyA",
        "outputId": "c63b6607-8575-47b5-c650-6d27bf060a33"
      },
      "source": [
        "w2v_modelo_sg.wv.most_similar('messi')"
      ],
      "execution_count": 30,
      "outputs": [
        {
          "output_type": "stream",
          "text": [
            "2021-08-19 14:34:04,690 : - precomputing L2-norms of word weight vectors\n"
          ],
          "name": "stderr"
        },
        {
          "output_type": "execute_result",
          "data": {
            "text/plain": [
              "[('suárez', 0.5568854808807373),\n",
              " ('barça', 0.5027720332145691),\n",
              " ('cavani', 0.4758782386779785),\n",
              " ('chuteiras', 0.4618196487426758),\n",
              " ('benzema', 0.45829614996910095),\n",
              " ('mordida', 0.4559587240219116),\n",
              " ('neymar', 0.4480852484703064),\n",
              " ('cristiano', 0.43916162848472595),\n",
              " ('athletic', 0.4339022636413574),\n",
              " ('enrique', 0.4301871657371521)]"
            ]
          },
          "metadata": {},
          "execution_count": 30
        }
      ]
    },
    {
      "cell_type": "code",
      "metadata": {
        "colab": {
          "base_uri": "https://localhost:8080/"
        },
        "id": "rjjIe8SA25w5",
        "outputId": "67b0311b-65dc-4f27-ee2f-98e7e35efa11"
      },
      "source": [
        "w2v_modelo_sg.wv.most_similar('google')"
      ],
      "execution_count": 31,
      "outputs": [
        {
          "output_type": "execute_result",
          "data": {
            "text/plain": [
              "[('android', 0.4335247278213501),\n",
              " ('facebook', 0.4257560968399048),\n",
              " ('waze', 0.4148469567298889),\n",
              " ('reguladores', 0.4094269871711731),\n",
              " ('yahoo', 0.38852179050445557),\n",
              " ('buffett', 0.38571876287460327),\n",
              " ('anunciantes', 0.3719073534011841),\n",
              " ('apple', 0.37093833088874817),\n",
              " ('patentes', 0.3698651194572449),\n",
              " ('verizon', 0.3692221939563751)]"
            ]
          },
          "metadata": {},
          "execution_count": 31
        }
      ]
    },
    {
      "cell_type": "code",
      "metadata": {
        "colab": {
          "base_uri": "https://localhost:8080/"
        },
        "id": "yLQPU1LK3p-4",
        "outputId": "5e6db4ed-835d-4740-ada9-859903e85f39"
      },
      "source": [
        "w2v_modelo_sg.wv.most_similar('gm')"
      ],
      "execution_count": 32,
      "outputs": [
        {
          "output_type": "execute_result",
          "data": {
            "text/plain": [
              "[('metalúrgicos', 0.567182719707489),\n",
              " ('motors', 0.5273492336273193),\n",
              " ('honda', 0.49676457047462463),\n",
              " ('coletivas', 0.49133989214897156),\n",
              " ('airbags', 0.4896143972873688),\n",
              " ('cubatão', 0.4879266619682312),\n",
              " ('bmw', 0.4870307445526123),\n",
              " ('audi', 0.4671856462955475),\n",
              " ('recall', 0.4621357321739197),\n",
              " ('autoguiados', 0.4619329571723938)]"
            ]
          },
          "metadata": {},
          "execution_count": 32
        }
      ]
    },
    {
      "cell_type": "code",
      "metadata": {
        "colab": {
          "base_uri": "https://localhost:8080/"
        },
        "id": "e8TH3dSp3r31",
        "outputId": "14058aa1-c6d0-4014-bda4-5adb93582573"
      },
      "source": [
        "w2v_modelo_sg.wv.most_similar('jogo')\n"
      ],
      "execution_count": 33,
      "outputs": [
        {
          "output_type": "execute_result",
          "data": {
            "text/plain": [
              "[('torcedor', 0.3642725348472595),\n",
              " ('invencibilidade', 0.36136525869369507),\n",
              " ('toluca', 0.3580944538116455),\n",
              " ('vinga', 0.3554423153400421),\n",
              " ('baixe', 0.35284242033958435),\n",
              " ('partida', 0.3519119322299957),\n",
              " ('escalar', 0.3516186475753784),\n",
              " ('mandante', 0.3452451825141907),\n",
              " ('raulzinho', 0.3451617360115051),\n",
              " ('bicha', 0.34358668327331543)]"
            ]
          },
          "metadata": {},
          "execution_count": 33
        }
      ]
    },
    {
      "cell_type": "code",
      "metadata": {
        "colab": {
          "base_uri": "https://localhost:8080/"
        },
        "id": "7Xl5v7J53voA",
        "outputId": "1a491d25-6940-4869-e263-e68cfdff6953"
      },
      "source": [
        "w2v_modelo.wv.save_word2vec_format('/content/drive/MyDrive/Files/modelo_cbow.txt', binary=False)\n",
        "w2v_modelo_sg.wv.save_word2vec_format('/content/drive/MyDrive/Files/modelo_skipgram.txt', binary=False)\n"
      ],
      "execution_count": 34,
      "outputs": [
        {
          "output_type": "stream",
          "text": [
            "2021-08-19 14:34:04,797 : - storing 13006x300 projection weights into /content/drive/MyDrive/Files/modelo_cbow.txt\n",
            "2021-08-19 14:34:09,108 : - storing 13006x300 projection weights into /content/drive/MyDrive/Files/modelo_skipgram.txt\n"
          ],
          "name": "stderr"
        }
      ]
    },
    {
      "cell_type": "code",
      "metadata": {
        "id": "tUP1_Mcx5LGE"
      },
      "source": [
        ""
      ],
      "execution_count": 34,
      "outputs": []
    }
  ]
}