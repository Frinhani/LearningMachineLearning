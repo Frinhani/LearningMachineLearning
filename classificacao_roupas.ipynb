{
  "nbformat": 4,
  "nbformat_minor": 0,
  "metadata": {
    "colab": {
      "name": "classificacao_roupas.ipynb",
      "provenance": [],
      "collapsed_sections": [],
      "toc_visible": true,
      "mount_file_id": "1wmX-UVEUhczSpwukqxRapvb2ver9Da4E",
      "authorship_tag": "ABX9TyNCU6S0dc8l4l4TlFPIgZRd",
      "include_colab_link": true
    },
    "kernelspec": {
      "name": "python3",
      "display_name": "Python 3"
    },
    "language_info": {
      "name": "python"
    }
  },
  "cells": [
    {
      "cell_type": "markdown",
      "metadata": {
        "id": "view-in-github",
        "colab_type": "text"
      },
      "source": [
        "<a href=\"https://colab.research.google.com/github/Frinhani/LearningMachineLearning/blob/main/classificacao_roupas.ipynb\" target=\"_parent\"><img src=\"https://colab.research.google.com/assets/colab-badge.svg\" alt=\"Open In Colab\"/></a>"
      ]
    },
    {
      "cell_type": "markdown",
      "metadata": {
        "id": "_XoRmU5GTVao"
      },
      "source": [
        "# Importações"
      ]
    },
    {
      "cell_type": "code",
      "metadata": {
        "id": "Dz2TK8rXQ0Y0"
      },
      "source": [
        "import tensorflow\n",
        "from tensorflow import keras\n",
        "from tensorflow.keras.models import load_model\n",
        "import matplotlib.pyplot as plt\n",
        "import numpy as np"
      ],
      "execution_count": 1,
      "outputs": []
    },
    {
      "cell_type": "markdown",
      "metadata": {
        "id": "LpGxZyznTV9L"
      },
      "source": [
        "#Carregando Dataset"
      ]
    },
    {
      "cell_type": "code",
      "metadata": {
        "id": "cZe8WkNyObII"
      },
      "source": [
        "dataset = keras.datasets.fashion_mnist\n",
        "((imagens_treino, identificacoes_treino),(imagens_teste, identificacoes_teste)) = dataset.load_data()"
      ],
      "execution_count": 2,
      "outputs": []
    },
    {
      "cell_type": "markdown",
      "metadata": {
        "id": "HqzF53GJTWiX"
      },
      "source": [
        "#Análise Exploratória"
      ]
    },
    {
      "cell_type": "code",
      "metadata": {
        "colab": {
          "base_uri": "https://localhost:8080/"
        },
        "id": "bn97G1xpVqdU",
        "outputId": "22e09dba-dbe3-439a-8117-58ade7fced96"
      },
      "source": [
        "print('Quantidade de imagens para treino: ',len(imagens_treino))\n",
        "print('Quantidade de imagens para teste: ',len(imagens_teste))\n",
        "print(f'As informações de cada uma das {imagens_treino.shape[0]} imagens de treino, estão distribuídas em {imagens_treino.shape[1]} linhas e {imagens_treino.shape[2]} colunas')\n",
        "print(f'As informações de cada uma das {imagens_teste.shape[0]} imagens de teste, estão distribuídas em {imagens_teste.shape[1]} linhas e {imagens_teste.shape[2]} colunas')\n",
        "print('Quantidade de linhas de identificação para treino: ',len(identificacoes_treino))\n",
        "print('Quantidade de linhas de identificação para teste: ',len(identificacoes_teste))\n",
        "print('Menor número usado para identificação no treino: ',identificacoes_treino.min())\n",
        "print('Maior número usado para identificação no treino: ',identificacoes_treino.max())"
      ],
      "execution_count": 3,
      "outputs": [
        {
          "output_type": "stream",
          "text": [
            "Quantidade de imagens para treino:  60000\n",
            "Quantidade de imagens para teste:  10000\n",
            "As informações de cada uma das 60000 imagens de treino, estão distribuídas em 28 linhas e 28 colunas\n",
            "As informações de cada uma das 10000 imagens de teste, estão distribuídas em 28 linhas e 28 colunas\n",
            "Quantidade de linhas de identificação para treino:  60000\n",
            "Quantidade de linhas de identificação para teste:  10000\n",
            "Menor número usado para identificação no treino:  0\n",
            "Maior número usado para identificação no treino:  9\n"
          ],
          "name": "stdout"
        }
      ]
    },
    {
      "cell_type": "markdown",
      "metadata": {
        "id": "fmqkSRWXW6-L"
      },
      "source": [
        "#Exibição dos Dados"
      ]
    },
    {
      "cell_type": "code",
      "metadata": {
        "colab": {
          "base_uri": "https://localhost:8080/",
          "height": 298
        },
        "id": "hHrWzxnmWIi9",
        "outputId": "68f3285b-5a56-4dab-d889-23d7e38d7e4c"
      },
      "source": [
        "plt.imshow(imagens_treino[0])\n",
        "plt.title(identificacoes_treino[0])"
      ],
      "execution_count": 4,
      "outputs": [
        {
          "output_type": "execute_result",
          "data": {
            "text/plain": [
              "Text(0.5, 1.0, '9')"
            ]
          },
          "metadata": {},
          "execution_count": 4
        },
        {
          "output_type": "display_data",
          "data": {
            "image/png": "[encoded data removed]",
            "text/plain": [
              "<Figure size 432x288 with 1 Axes>"
            ]
          },
          "metadata": {
            "needs_background": "light"
          }
        }
      ]
    },
    {
      "cell_type": "code",
      "metadata": {
        "colab": {
          "base_uri": "https://localhost:8080/",
          "height": 282
        },
        "id": "ijFK0Bc_P5wj",
        "outputId": "10c9b7bc-6e6f-4702-827f-92d37142cae4"
      },
      "source": [
        "total_de_classificacoes = 10\n",
        "nomes_de_classificacao = ['Camiseta', 'Calça', 'Pullover', 'Vestido', 'Casaco',\n",
        "                          'Sandália', 'Camisa', 'Tênis', 'Bolsa', 'Bota']\n",
        "\n",
        "# for imagem in range(10):\n",
        "#   plt.subplot(2,5, imagem+1)\n",
        "#   plt.imshow(imagens_treino[imagem])\n",
        "#   plt.title(nomes_de_classificacao[identificacoes_treino[imagem]])\n",
        "\n",
        "plt.imshow(imagens_treino[0])\n",
        "plt.colorbar()"
      ],
      "execution_count": 5,
      "outputs": [
        {
          "output_type": "execute_result",
          "data": {
            "text/plain": [
              "<matplotlib.colorbar.Colorbar at 0x7f3902a6b310>"
            ]
          },
          "metadata": {},
          "execution_count": 5
        },
        {
          "output_type": "display_data",
          "data": {
            "image/png": "[encoded data removed]",
            "text/plain": [
              "<Figure size 432x288 with 2 Axes>"
            ]
          },
          "metadata": {
            "needs_background": "light"
          }
        }
      ]
    },
    {
      "cell_type": "markdown",
      "metadata": {
        "id": "GQp-erquD03G"
      },
      "source": [
        "#Normalizando as imagens"
      ]
    },
    {
      "cell_type": "code",
      "metadata": {
        "id": "9ubUbG779ON3"
      },
      "source": [
        "#normalização\n",
        "imagens_treino = imagens_treino/float(255)"
      ],
      "execution_count": 6,
      "outputs": []
    },
    {
      "cell_type": "markdown",
      "metadata": {
        "id": "1nF383fLD6rm"
      },
      "source": [
        "#Criando, Compilando, Treinando e Normalizando o Modelo"
      ]
    },
    {
      "cell_type": "code",
      "metadata": {
        "id": "EuCVeUvsQJ9_",
        "colab": {
          "base_uri": "https://localhost:8080/"
        },
        "outputId": "59d0b1a9-4e7b-47f9-969f-98705f8e7b74"
      },
      "source": [
        "modelo = keras.Sequential([\n",
        "    keras.layers.Flatten(input_shape = (28, 28)),\n",
        "    keras.layers.Dense(256,activation=tensorflow.nn.relu),\n",
        "    keras.layers.Dropout(0.2),\n",
        "    keras.layers.Dense(10, activation=tensorflow.nn.softmax)\n",
        "])\n",
        "modelo.compile(optimizer='adam', loss='sparse_categorical_crossentropy',metrics=['accuracy'])\n",
        "historico = modelo.fit(imagens_treino, identificacoes_treino, epochs=5, validation_split=0.2)"
      ],
      "execution_count": 7,
      "outputs": [
        {
          "output_type": "stream",
          "text": [
            "Epoch 1/5\n",
            "1500/1500 [==============================] - 6s 3ms/step - loss: 0.5265 - accuracy: 0.8124 - val_loss: 0.4159 - val_accuracy: 0.8477\n",
            "Epoch 2/5\n",
            "1500/1500 [==============================] - 5s 3ms/step - loss: 0.3964 - accuracy: 0.8549 - val_loss: 0.3762 - val_accuracy: 0.8663\n",
            "Epoch 3/5\n",
            "1500/1500 [==============================] - 5s 3ms/step - loss: 0.3650 - accuracy: 0.8666 - val_loss: 0.3713 - val_accuracy: 0.8690\n",
            "Epoch 4/5\n",
            "1500/1500 [==============================] - 5s 3ms/step - loss: 0.3408 - accuracy: 0.8743 - val_loss: 0.3414 - val_accuracy: 0.8767\n",
            "Epoch 5/5\n",
            "1500/1500 [==============================] - 5s 3ms/step - loss: 0.3226 - accuracy: 0.8802 - val_loss: 0.3490 - val_accuracy: 0.8735\n"
          ],
          "name": "stdout"
        }
      ]
    },
    {
      "cell_type": "markdown",
      "metadata": {
        "id": "2pfbvR5lEbKf"
      },
      "source": [
        "#Salvando e Carregando o Modelo Treinado"
      ]
    },
    {
      "cell_type": "code",
      "metadata": {
        "id": "gO7nIltKCcdN"
      },
      "source": [
        "modelo.save('modelo.h5')\n",
        "modelo_salvo = load_model('modelo.h5')"
      ],
      "execution_count": 8,
      "outputs": []
    },
    {
      "cell_type": "markdown",
      "metadata": {
        "id": "CcE0mWRiEgTs"
      },
      "source": [
        "#Visualizando as Acurácias de Treino e Validação por época"
      ]
    },
    {
      "cell_type": "code",
      "metadata": {
        "colab": {
          "base_uri": "https://localhost:8080/",
          "height": 314
        },
        "id": "GdrcYfeJ-hbb",
        "outputId": "2b491bbc-d6c7-49fd-878f-fea952049f19"
      },
      "source": [
        "plt.plot(historico.history['accuracy'])\n",
        "plt.plot(historico.history['val_accuracy'])\n",
        "plt.title('Acurácia por Épocas')\n",
        "plt.xlabel('épocas')\n",
        "plt.ylabel('acurácia')\n",
        "plt.legend(['treino', 'validação'])"
      ],
      "execution_count": 9,
      "outputs": [
        {
          "output_type": "execute_result",
          "data": {
            "text/plain": [
              "<matplotlib.legend.Legend at 0x7f38fa96d190>"
            ]
          },
          "metadata": {},
          "execution_count": 9
        },
        {
          "output_type": "display_data",
          "data": {
            "image/png": "[encoded data removed]",
            "text/plain": [
              "<Figure size 432x288 with 1 Axes>"
            ]
          },
          "metadata": {
            "needs_background": "light"
          }
        }
      ]
    },
    {
      "cell_type": "markdown",
      "metadata": {
        "id": "7RGwn81DE88I"
      },
      "source": [
        "#Visualizando as Perdas de Treino e Validação por época"
      ]
    },
    {
      "cell_type": "code",
      "metadata": {
        "colab": {
          "base_uri": "https://localhost:8080/",
          "height": 314
        },
        "id": "oiBSCN8f_p2r",
        "outputId": "413acf9e-c444-4d81-c161-5cb637947d54"
      },
      "source": [
        "plt.plot(historico.history['loss'])\n",
        "plt.plot(historico.history['val_loss'])\n",
        "plt.title('Perda por Épocas')\n",
        "plt.xlabel('épocas')\n",
        "plt.ylabel('perda')\n",
        "plt.legend(['treino', 'validação'])"
      ],
      "execution_count": 10,
      "outputs": [
        {
          "output_type": "execute_result",
          "data": {
            "text/plain": [
              "<matplotlib.legend.Legend at 0x7f38ff0916d0>"
            ]
          },
          "metadata": {},
          "execution_count": 10
        },
        {
          "output_type": "display_data",
          "data": {
            "image/png": "[encoded data removed]",
            "text/plain": [
              "<Figure size 432x288 with 1 Axes>"
            ]
          },
          "metadata": {
            "needs_background": "light"
          }
        }
      ]
    },
    {
      "cell_type": "markdown",
      "metadata": {
        "id": "iPY6h3-IFCP5"
      },
      "source": [
        "#Testando o Modelo e o Modelo Salvo"
      ]
    },
    {
      "cell_type": "code",
      "metadata": {
        "colab": {
          "base_uri": "https://localhost:8080/"
        },
        "id": "OV3CJEzT5Gys",
        "outputId": "1b8077d4-6a53-41e2-fc24-4f945322d816"
      },
      "source": [
        "testes = modelo.predict(imagens_teste)\n",
        "print('Resultado teste: ', np.argmax(testes[1]))\n",
        "print('Número da imagem de teste: ', identificacoes_teste[1])"
      ],
      "execution_count": 11,
      "outputs": [
        {
          "output_type": "stream",
          "text": [
            "Resultado teste:  2\n",
            "Número da imagem de teste:  2\n"
          ],
          "name": "stdout"
        }
      ]
    },
    {
      "cell_type": "code",
      "metadata": {
        "id": "_78pGdaa6Q4s",
        "colab": {
          "base_uri": "https://localhost:8080/"
        },
        "outputId": "ab0d6ea0-3e0c-42a8-9c42-ecfb15a3451c"
      },
      "source": [
        "testes_modelo_salvo = modelo_salvo.predict(imagens_teste)\n",
        "print('resultado teste modelo salvo: ', np.argmax(testes_modelo_salvo[1]))\n",
        "print('Número da imagem de teste: ', identificacoes_teste[1])\n"
      ],
      "execution_count": 12,
      "outputs": [
        {
          "output_type": "stream",
          "text": [
            "resultado teste modelo salvo:  2\n",
            "Número da imagem de teste:  2\n"
          ],
          "name": "stdout"
        }
      ]
    },
    {
      "cell_type": "markdown",
      "metadata": {
        "id": "JmOYTr0NFNOL"
      },
      "source": [
        "#Avaliando o Modelo e o Modelo Salvo"
      ]
    },
    {
      "cell_type": "code",
      "metadata": {
        "colab": {
          "base_uri": "https://localhost:8080/"
        },
        "id": "qyFx6awt5tPE",
        "outputId": "59c203b5-a816-4d32-95a4-e5f8f48c2567"
      },
      "source": [
        "perda_teste, acuracia_teste  = modelo.evaluate(imagens_teste, identificacoes_teste)\n",
        "print('Perda do teste ', perda_teste)\n",
        "print('Acurácia do teste: ', acuracia_teste)"
      ],
      "execution_count": 13,
      "outputs": [
        {
          "output_type": "stream",
          "text": [
            "313/313 [==============================] - 1s 2ms/step - loss: 46.2437 - accuracy: 0.8675\n",
            "Perda do teste  46.24371337890625\n",
            "Acurácia do teste:  0.8675000071525574\n"
          ],
          "name": "stdout"
        }
      ]
    },
    {
      "cell_type": "code",
      "metadata": {
        "colab": {
          "base_uri": "https://localhost:8080/"
        },
        "id": "DfF84G3BFdzU",
        "outputId": "80e5447e-dc86-4b9c-f060-396c9af5205f"
      },
      "source": [
        "perda_modelo_salvo_teste, acuracia_modelo_salvo_teste  = modelo_salvo.evaluate(imagens_teste, identificacoes_teste)\n",
        "print('Perda do teste no Modelo Salvo ', perda_modelo_salvo_teste)\n",
        "print('Acurácia do teste no Modelo Salvo: ', acuracia_modelo_salvo_teste)"
      ],
      "execution_count": 14,
      "outputs": [
        {
          "output_type": "stream",
          "text": [
            "313/313 [==============================] - 1s 2ms/step - loss: 46.2437 - accuracy: 0.8675\n",
            "Perda do teste no Modelo Salvo  46.24371337890625\n",
            "Acurácia do teste no Modelo Salvo:  0.8675000071525574\n"
          ],
          "name": "stdout"
        }
      ]
    }
  ]
}