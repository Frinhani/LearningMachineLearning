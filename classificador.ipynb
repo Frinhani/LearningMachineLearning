{
  "nbformat": 4,
  "nbformat_minor": 0,
  "metadata": {
    "colab": {
      "name": "classificador.ipynb",
      "provenance": [],
      "collapsed_sections": [],
      "mount_file_id": "1KU0IYWbpCsHOAV6uwpYbYFXDiIzknEHr",
      "authorship_tag": "ABX9TyNXUxmA7H4fess/9SMBR/2E",
      "include_colab_link": true
    },
    "kernelspec": {
      "name": "python3",
      "display_name": "Python 3"
    },
    "language_info": {
      "name": "python"
    }
  },
  "cells": [
    {
      "cell_type": "markdown",
      "metadata": {
        "id": "view-in-github",
        "colab_type": "text"
      },
      "source": [
        "<a href=\"https://colab.research.google.com/github/Frinhani/LearningMachineLearning/blob/main/classificador.ipynb\" target=\"_parent\"><img src=\"https://colab.research.google.com/assets/colab-badge.svg\" alt=\"Open In Colab\"/></a>"
      ]
    },
    {
      "cell_type": "code",
      "metadata": {
        "id": "8eKaT88V-wyx"
      },
      "source": [
        "!python -m spacy download pt_core_news_sm"
      ],
      "execution_count": null,
      "outputs": []
    },
    {
      "cell_type": "code",
      "metadata": {
        "id": "5nfLKWHvAE_4"
      },
      "source": [
        "import numpy as np\n",
        "import spacy\n",
        "import pandas as pd\n",
        "from gensim.models import KeyedVectors\n",
        "\n",
        "w2v_modelo_cbow = KeyedVectors.load_word2vec_format('/content/drive/MyDrive/Files/modelo_cbow.txt')\n",
        "w2v_modelo_skipgram = KeyedVectors.load_word2vec_format('/content/drive/MyDrive/Files/modelo_skipgram.txt')\n",
        "artigo_treino = pd.read_csv('/content/drive/MyDrive/Files/treino.csv')\n",
        "artigo_teste = pd.read_csv('/content/drive/MyDrive/Files/teste.csv')"
      ],
      "execution_count": 12,
      "outputs": []
    },
    {
      "cell_type": "code",
      "metadata": {
        "colab": {
          "base_uri": "https://localhost:8080/"
        },
        "id": "aZKRv447Fta5",
        "outputId": "43575533-0ae5-48ed-a2d8-0b52fccbb605"
      },
      "source": [
        "nlp = spacy.load('pt_core_news_sm', disable=['paser', 'ner', 'tagger', 'textcat'])\n",
        "def tokenizador(texto):\n",
        "  doc = nlp(texto)\n",
        "  tokens_validos=[]\n",
        "  for token in doc:\n",
        "    e_valido = not token.is_stop and token.is_alpha\n",
        "    if e_valido:\n",
        "      tokens_validos.append(token.text.lower())\n",
        "  return tokens_validos\n",
        "\n",
        "texto = 'Rio de Janeiro 124135326 *** *(((( é uma cidade maravilhosa!'\n",
        "tokens = tokenizador(texto)\n",
        "print(tokens)"
      ],
      "execution_count": 6,
      "outputs": [
        {
          "output_type": "stream",
          "text": [
            "['rio', 'janeiro', 'cidade', 'maravilhosa']\n"
          ],
          "name": "stdout"
        }
      ]
    },
    {
      "cell_type": "code",
      "metadata": {
        "colab": {
          "base_uri": "https://localhost:8080/"
        },
        "id": "sp2qutPrDTfX",
        "outputId": "b2a78f0d-7235-4b55-c51b-e08ec43fd387"
      },
      "source": [
        "def combinacao_de_vetores_por_soma(palavras, modelo):\n",
        "  \n",
        "  vetor_resultante = np.zeros((1,300))\n",
        "  \n",
        "  for palavra in palavras:\n",
        "    try:\n",
        "      vetor_resultante += modelo.get_vector(palavra)\n",
        "    except KeyError:\n",
        "      pass\n",
        "\n",
        "  return vetor_resultante\n",
        "\n",
        "vetor_texto = combinacao_de_vetores_por_soma(tokens, w2v_modelo_cbow)\n",
        "print(vetor_texto.shape)\n",
        "print(vetor_texto)"
      ],
      "execution_count": 10,
      "outputs": [
        {
          "output_type": "stream",
          "text": [
            "(1, 300)\n",
            "[[-1.32437672e+00  5.98350331e-01 -1.43126681e+00  3.19653052e+00\n",
            "   3.77383024e-01  1.05998215e+00 -4.25641467e-01  1.85249817e+00\n",
            "  -2.36823723e-01  1.73208658e+00  8.06936682e-01 -1.04468193e+00\n",
            "  -1.46047980e+00 -2.48003477e+00 -4.11971387e-01 -1.35241293e+00\n",
            "   1.07213159e+00 -5.01937333e-01  1.71996956e+00 -2.74857581e-02\n",
            "   8.47721312e-01  1.67645764e+00 -1.48952062e+00  1.21011248e+00\n",
            "   3.38149041e-01  1.76940392e+00 -3.60611498e-01  3.11516720e+00\n",
            "   1.17610985e+00 -2.73023015e+00  1.35116425e+00  2.09008311e+00\n",
            "   7.97988350e-01 -1.45457530e+00 -1.49714577e+00 -1.15652266e+00\n",
            "  -4.11808304e-02 -1.79862797e-01  1.39708656e+00  3.34760293e-01\n",
            "  -4.23425600e-01  6.23440287e-01 -2.80064832e-01 -7.63139889e-01\n",
            "  -2.30080232e+00  9.93265305e-04  7.70332877e-01  7.94777919e-01\n",
            "  -4.40640485e-01 -1.13231733e-01  1.34832121e+00  1.31866290e+00\n",
            "   3.36287233e+00 -4.53738421e-02  6.12329364e-01 -7.92561308e-01\n",
            "   4.61870462e-01 -3.63853663e-01 -5.09549320e-01  4.33169428e-01\n",
            "  -6.88862145e-01  4.05163169e-02  1.34168720e+00  1.15357435e+00\n",
            "   5.49799547e-01 -1.11657239e+00 -3.03787719e-01 -6.91301569e-01\n",
            "  -1.23346466e+00  1.03712773e+00 -1.03891587e+00 -1.13853585e+00\n",
            "   7.81043082e-01  2.28896910e+00  3.85053813e-01 -2.39419084e+00\n",
            "   6.00736022e-01  1.10289302e-01 -9.01473314e-01  1.03430575e+00\n",
            "   1.33678070e+00  1.45143503e+00 -1.85964416e+00 -1.31885076e+00\n",
            "  -8.70878190e-01  1.01012152e+00 -1.67452405e+00  2.39586951e+00\n",
            "  -1.13905814e+00  1.22493515e+00  1.57489944e+00  4.22385484e-02\n",
            "   3.92867383e+00 -3.40396464e-01  4.96530317e-01 -3.35700177e-01\n",
            "  -5.11616826e-01 -2.13559604e+00  4.09446519e-01  9.12538225e-01\n",
            "   9.81453836e-01 -2.51293957e-01 -2.46929824e-02  4.18387219e-01\n",
            "   4.55864165e-01 -1.50554605e-01  1.13776808e+00  9.96717963e-01\n",
            "   1.76781718e+00  1.21867232e+00 -5.90766370e-01 -2.50739127e-01\n",
            "  -3.04129371e+00  1.38664368e+00  1.16459876e-01  3.33996302e+00\n",
            "  -3.76568019e-01 -2.00146447e+00 -1.20696476e+00  8.87012482e-01\n",
            "  -1.37628856e+00  1.57076475e+00  9.29673214e-01 -1.10672820e+00\n",
            "   3.44772834e+00 -1.17910904e+00 -1.35766503e+00  2.21442664e+00\n",
            "  -1.33832699e+00  1.69835508e-01  1.54918386e+00  4.85442758e-01\n",
            "  -1.88869268e+00 -3.31652276e-01 -9.85354632e-02 -4.47397903e-01\n",
            "   4.22007561e-01 -1.25031016e+00  2.76565406e-01  1.75539553e-01\n",
            "   1.04106347e+00 -3.67244691e-01  1.48069534e+00  3.76824327e-01\n",
            "   1.61016214e+00  5.67641854e-02  1.62957526e+00  1.42290106e+00\n",
            "  -9.58670825e-01  2.97672139e+00 -1.09588227e+00  1.24697903e+00\n",
            "   2.16911870e+00 -3.20840520e+00  3.89782704e-01  1.17613268e+00\n",
            "  -7.15756796e-01  5.83371788e-01 -1.62856305e+00 -4.84609008e-01\n",
            "  -3.86993170e-01 -2.81566638e+00  8.72786656e-01  2.20175385e-01\n",
            "  -6.37747318e-01 -4.51955125e-01 -1.11737877e+00 -1.31686661e+00\n",
            "  -1.12704985e+00 -1.03627883e+00 -2.43428528e-01 -1.40358007e+00\n",
            "  -9.70392108e-01 -1.47746217e-01 -1.43308523e+00  8.78765844e-01\n",
            "   2.23869540e-01  2.30534175e+00 -1.06717548e+00  1.80216265e+00\n",
            "  -1.23001267e+00  3.66811007e-02 -6.83777228e-01 -2.99060702e-01\n",
            "  -1.99665350e+00  1.19577268e+00 -5.09954704e-01 -1.25303094e+00\n",
            "   2.68763267e-01  6.75766088e-01 -2.41815922e+00 -1.51455997e+00\n",
            "  -2.49829769e-01  8.25683266e-01 -3.72174092e-01  1.28839213e+00\n",
            "   1.17205217e+00  3.17404437e+00 -4.88784403e-01 -4.71917093e-01\n",
            "   2.99416648e+00 -1.27438059e+00  1.81618631e-02 -4.07853307e-01\n",
            "  -5.11624118e-01 -8.20082486e-01 -1.85012534e-01 -2.33332088e-01\n",
            "   2.82613567e+00  1.72878404e+00  1.20764795e+00 -2.21933730e-01\n",
            "  -4.21364322e-01  2.64031893e+00  1.96012169e-01 -2.11298788e+00\n",
            "  -1.46377823e+00  8.43917562e-01  1.13060518e+00 -1.45362609e+00\n",
            "   9.89510715e-02 -1.98149313e+00  6.34374872e-01  7.39215460e-01\n",
            "  -5.83161794e-01 -1.33739391e+00  8.14923525e-01 -3.21855599e+00\n",
            "  -1.10721752e-01  1.13023445e+00  1.38853797e+00  9.41082180e-01\n",
            "  -6.91024214e-02  2.39746803e+00 -1.22906534e+00  4.04833496e-01\n",
            "  -2.25267915e+00  1.20669842e+00  1.95837918e+00 -4.22138728e-01\n",
            "   9.05550838e-01 -3.04958700e+00  1.65914338e-01 -2.00597876e+00\n",
            "  -1.12171131e+00  4.70885830e-01 -2.67368291e-01  3.33579212e+00\n",
            "   1.40636925e+00 -7.99965933e-02  2.00928110e+00 -1.58744131e+00\n",
            "  -7.89387941e-01 -4.44986805e-01  6.39372975e-01  1.02828220e+00\n",
            "   2.84674570e-01 -1.71149671e-01 -1.30132087e+00  1.21103084e+00\n",
            "  -1.62910219e+00  1.57843172e-01 -5.58079273e-01  3.46571037e+00\n",
            "   1.61479957e-01  4.14064258e-01 -7.28082947e-01  1.01944844e+00\n",
            "   1.92329258e-01  8.14022750e-01 -3.70276697e-01 -4.43969220e-01\n",
            "  -3.17315981e-01  9.57549606e-01  1.94385510e+00 -1.83265321e+00\n",
            "   8.28130409e-01 -1.64749452e+00 -4.53746259e-01  1.35247529e-01\n",
            "   5.91110408e-01 -2.97605425e-01  2.50203878e-01  2.32687482e+00\n",
            "  -6.12404197e-03  5.34119755e-01 -2.62705767e+00  1.19341661e+00\n",
            "   1.92291659e+00  1.26862437e-01 -4.74772811e-01  4.46086884e-01\n",
            "  -6.74545825e-01 -5.79593703e-02 -1.66007688e+00 -6.33492187e-01\n",
            "   3.64964312e-01 -1.23872408e+00 -4.32428382e-02 -3.71287987e-01]]\n"
          ],
          "name": "stdout"
        }
      ]
    },
    {
      "cell_type": "code",
      "metadata": {
        "colab": {
          "base_uri": "https://localhost:8080/"
        },
        "id": "vvYLQ_O-_3XM",
        "outputId": "3c0a96f0-374e-4193-bba8-bab5115c250f"
      },
      "source": [
        "def matriz_vetores(textos, modelo):\n",
        "  x = len(textos)\n",
        "  y = 300\n",
        "  matriz = np.zeros((x,y))\n",
        "  \n",
        "  for i in range(x):\n",
        "    palavras = tokenizador(textos.iloc[i])\n",
        "    matriz[i] = combinacao_de_vetores_por_soma(palavras, modelo)\n",
        "  return matriz\n",
        "\n",
        "matriz_vetores_treino_cbow = matriz_vetores(artigo_treino.title, w2v_modelo_cbow)\n",
        "matriz_vetores_teste_cbow = matriz_vetores(artigo_teste.title, w2v_modelo_cbow)\n",
        "print(matriz_vetores_treino_cbow.shape)\n",
        "print(matriz_vetores_teste_cbow.shape)"
      ],
      "execution_count": 13,
      "outputs": [
        {
          "output_type": "stream",
          "text": [
            "(90000, 300)\n",
            "(20513, 300)\n"
          ],
          "name": "stdout"
        }
      ]
    },
    {
      "cell_type": "code",
      "metadata": {
        "colab": {
          "base_uri": "https://localhost:8080/"
        },
        "id": "Dz2Ls_iDti10",
        "outputId": "aad610d4-fcde-48bf-9d15-8515f56120ac"
      },
      "source": [
        "from sklearn.linear_model import LogisticRegression\n",
        "from sklearn.metrics import classification_report\n",
        "\n",
        "def classificador(modelo, x_treino, y_treino, x_teste, y_teste):\n",
        "  RL = LogisticRegression(max_iter = 800)\n",
        "  RL.fit(x_treino,y_treino)\n",
        "  categorias = RL.predict(x_teste)\n",
        "  resultados = classification_report(y_teste, categorias)\n",
        "  print(resultados)\n",
        "  return RL\n",
        "\n",
        "RL_cbow= classificador(w2v_modelo_cbow,\n",
        "                       matriz_vetores_treino_cbow,\n",
        "                       artigo_treino.category,\n",
        "                       matriz_vetores_teste_cbow,\n",
        "                       artigo_teste.category)"
      ],
      "execution_count": 17,
      "outputs": [
        {
          "output_type": "stream",
          "text": [
            "              precision    recall  f1-score   support\n",
            "\n",
            "     colunas       0.80      0.71      0.76      6103\n",
            "   cotidiano       0.63      0.80      0.71      1698\n",
            "     esporte       0.93      0.86      0.89      4663\n",
            "   ilustrada       0.13      0.83      0.22       131\n",
            "     mercado       0.83      0.78      0.80      5867\n",
            "       mundo       0.75      0.83      0.79      2051\n",
            "\n",
            "    accuracy                           0.79     20513\n",
            "   macro avg       0.68      0.80      0.69     20513\n",
            "weighted avg       0.82      0.79      0.80     20513\n",
            "\n"
          ],
          "name": "stdout"
        }
      ]
    },
    {
      "cell_type": "code",
      "metadata": {
        "colab": {
          "base_uri": "https://localhost:8080/"
        },
        "id": "dyB3vsHlwr0i",
        "outputId": "5ad51df7-7d09-4bea-a778-629927745359"
      },
      "source": [
        "matriz_vetores_treino_sg = matriz_vetores(artigo_treino.title, w2v_modelo_skipgram)\n",
        "matriz_vetores_teste_sg = matriz_vetores(artigo_teste.title, w2v_modelo_skipgram)\n",
        "print(matriz_vetores_treino_sg.shape)\n",
        "print(matriz_vetores_treino_sg.shape)\n",
        "\n",
        "RL_skip_gram= classificador(w2v_modelo_skipgram,\n",
        "                       matriz_vetores_treino_sg,\n",
        "                       artigo_treino.category,\n",
        "                       matriz_vetores_teste_sg,\n",
        "                       artigo_teste.category)"
      ],
      "execution_count": 18,
      "outputs": [
        {
          "output_type": "stream",
          "text": [
            "(90000, 300)\n",
            "(90000, 300)\n",
            "              precision    recall  f1-score   support\n",
            "\n",
            "     colunas       0.81      0.72      0.76      6103\n",
            "   cotidiano       0.64      0.80      0.71      1698\n",
            "     esporte       0.93      0.88      0.90      4663\n",
            "   ilustrada       0.14      0.86      0.24       131\n",
            "     mercado       0.84      0.79      0.82      5867\n",
            "       mundo       0.76      0.84      0.80      2051\n",
            "\n",
            "    accuracy                           0.80     20513\n",
            "   macro avg       0.69      0.82      0.71     20513\n",
            "weighted avg       0.82      0.80      0.81     20513\n",
            "\n"
          ],
          "name": "stdout"
        }
      ]
    },
    {
      "cell_type": "code",
      "metadata": {
        "id": "cg5JFP8lz-4E"
      },
      "source": [
        "import pickle"
      ],
      "execution_count": 19,
      "outputs": []
    },
    {
      "cell_type": "code",
      "metadata": {
        "id": "31Ku4msv0DV6"
      },
      "source": [
        "with open('/content/drive/MyDrive/Files/rl_cbow.pkl', 'wb') as f:\n",
        "  pickle.dump(RL_cbow, f)\n",
        "\n",
        "with open('/content/drive/MyDrive/Files/rl_sg.pkl', 'wb') as f:\n",
        "  pickle.dump(RL_skip_gram, f)"
      ],
      "execution_count": 20,
      "outputs": []
    },
    {
      "cell_type": "code",
      "metadata": {
        "id": "3Vmbp9UY0cEv"
      },
      "source": [
        ""
      ],
      "execution_count": null,
      "outputs": []
    }
  ]
}